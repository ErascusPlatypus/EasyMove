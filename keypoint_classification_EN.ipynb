{
 "cells": [
  {
   "cell_type": "code",
   "execution_count": 1,
   "metadata": {
    "id": "igMyGnjE9hEp"
   },
   "outputs": [
    {
     "name": "stdout",
     "output_type": "stream",
     "text": [
      "WARNING:tensorflow:From d:\\Programming\\Templates\\HandGestures\\.venv\\lib\\site-packages\\keras\\src\\losses.py:2976: The name tf.losses.sparse_softmax_cross_entropy is deprecated. Please use tf.compat.v1.losses.sparse_softmax_cross_entropy instead.\n",
      "\n"
     ]
    }
   ],
   "source": [
    "import csv\n",
    "\n",
    "import numpy as np\n",
    "import tensorflow as tf\n",
    "from sklearn.model_selection import train_test_split\n",
    "from keras.models import load_model\n",
    "\n",
    "RANDOM_SEED = 42"
   ]
  },
  {
   "cell_type": "markdown",
   "metadata": {
    "id": "t2HDvhIu9hEr"
   },
   "source": [
    "# Specify each path"
   ]
  },
  {
   "cell_type": "code",
   "execution_count": 2,
   "metadata": {
    "id": "9NvZP2Zn9hEy"
   },
   "outputs": [],
   "source": [
    "dataset = 'model/keypoint_classifier/keypoint.csv'\n",
    "model_save_path = 'model/keypoint_classifier/keypoint_classifier.keras'\n",
    "tflite_save_path = 'model/keypoint_classifier/keypoint_classifier.tflite'"
   ]
  },
  {
   "cell_type": "markdown",
   "metadata": {
    "id": "s5oMH7x19hEz"
   },
   "source": [
    "# Set number of classes"
   ]
  },
  {
   "cell_type": "code",
   "execution_count": 3,
   "metadata": {
    "id": "du4kodXL9hEz"
   },
   "outputs": [],
   "source": [
    "NUM_CLASSES = 12"
   ]
  },
  {
   "cell_type": "markdown",
   "metadata": {
    "id": "XjnL0uso9hEz"
   },
   "source": [
    "# Dataset reading"
   ]
  },
  {
   "cell_type": "code",
   "execution_count": 4,
   "metadata": {
    "id": "QT5ZqtEz9hE0"
   },
   "outputs": [],
   "source": [
    "X_dataset = np.loadtxt(dataset, delimiter=',', dtype='float32', usecols=list(range(1, (21 * 2) + 1)))"
   ]
  },
  {
   "cell_type": "code",
   "execution_count": 5,
   "metadata": {
    "id": "QmoKFsp49hE0"
   },
   "outputs": [],
   "source": [
    "y_dataset = np.loadtxt(dataset, delimiter=',', dtype='int32', usecols=(0))"
   ]
  },
  {
   "cell_type": "code",
   "execution_count": 6,
   "metadata": {
    "id": "xQU7JTZ_9hE0"
   },
   "outputs": [],
   "source": [
    "X_train, X_test, y_train, y_test = train_test_split(X_dataset, y_dataset, train_size=0.75, random_state=RANDOM_SEED)"
   ]
  },
  {
   "cell_type": "markdown",
   "metadata": {
    "id": "mxK_lETT9hE0"
   },
   "source": [
    "# Model building"
   ]
  },
  {
   "cell_type": "code",
   "execution_count": 7,
   "metadata": {
    "id": "vHBmUf1t9hE1"
   },
   "outputs": [
    {
     "name": "stdout",
     "output_type": "stream",
     "text": [
      "WARNING:tensorflow:From d:\\Programming\\Templates\\HandGestures\\.venv\\lib\\site-packages\\keras\\src\\backend.py:1398: The name tf.executing_eagerly_outside_functions is deprecated. Please use tf.compat.v1.executing_eagerly_outside_functions instead.\n",
      "\n"
     ]
    }
   ],
   "source": [
    "model = tf.keras.models.Sequential([\n",
    "    tf.keras.layers.Input((21 * 2, )),\n",
    "    tf.keras.layers.Dropout(0.2),\n",
    "    tf.keras.layers.Dense(20, activation='relu'),\n",
    "    tf.keras.layers.Dropout(0.4),\n",
    "    tf.keras.layers.Dense(10, activation='relu'),\n",
    "    tf.keras.layers.Dense(NUM_CLASSES, activation='softmax')\n",
    "])"
   ]
  },
  {
   "cell_type": "code",
   "execution_count": 8,
   "metadata": {
    "colab": {
     "base_uri": "https://localhost:8080/"
    },
    "id": "ypqky9tc9hE1",
    "outputId": "5db082bb-30e3-4110-bf63-a1ee777ecd46"
   },
   "outputs": [
    {
     "name": "stdout",
     "output_type": "stream",
     "text": [
      "Model: \"sequential\"\n",
      "_________________________________________________________________\n",
      " Layer (type)                Output Shape              Param #   \n",
      "=================================================================\n",
      " dropout (Dropout)           (None, 42)                0         \n",
      "                                                                 \n",
      " dense (Dense)               (None, 20)                860       \n",
      "                                                                 \n",
      " dropout_1 (Dropout)         (None, 20)                0         \n",
      "                                                                 \n",
      " dense_1 (Dense)             (None, 10)                210       \n",
      "                                                                 \n",
      " dense_2 (Dense)             (None, 12)                132       \n",
      "                                                                 \n",
      "=================================================================\n",
      "Total params: 1202 (4.70 KB)\n",
      "Trainable params: 1202 (4.70 KB)\n",
      "Non-trainable params: 0 (0.00 Byte)\n",
      "_________________________________________________________________\n"
     ]
    }
   ],
   "source": [
    "model.summary()  # tf.keras.utils.plot_model(model, show_shapes=True)"
   ]
  },
  {
   "cell_type": "code",
   "execution_count": 9,
   "metadata": {
    "id": "MbMjOflQ9hE1"
   },
   "outputs": [],
   "source": [
    "# Model checkpoint callback\n",
    "cp_callback = tf.keras.callbacks.ModelCheckpoint(\n",
    "    model_save_path, verbose=1, save_weights_only=False)\n",
    "# Callback for early stopping\n",
    "es_callback = tf.keras.callbacks.EarlyStopping(patience=20, verbose=1)"
   ]
  },
  {
   "cell_type": "code",
   "execution_count": 10,
   "metadata": {
    "id": "c3Dac0M_9hE2"
   },
   "outputs": [
    {
     "name": "stdout",
     "output_type": "stream",
     "text": [
      "WARNING:tensorflow:From d:\\Programming\\Templates\\HandGestures\\.venv\\lib\\site-packages\\keras\\src\\optimizers\\__init__.py:309: The name tf.train.Optimizer is deprecated. Please use tf.compat.v1.train.Optimizer instead.\n",
      "\n"
     ]
    }
   ],
   "source": [
    "# Model compilation\n",
    "model.compile(\n",
    "    optimizer='adam',\n",
    "    loss='sparse_categorical_crossentropy',\n",
    "    metrics=['accuracy']\n",
    ")"
   ]
  },
  {
   "cell_type": "markdown",
   "metadata": {
    "id": "7XI0j1Iu9hE2"
   },
   "source": [
    "# Model training"
   ]
  },
  {
   "cell_type": "code",
   "execution_count": 11,
   "metadata": {
    "colab": {
     "base_uri": "https://localhost:8080/"
    },
    "id": "WirBl-JE9hE3",
    "outputId": "71b30ca2-8294-4d9d-8aa2-800d90d399de",
    "scrolled": true
   },
   "outputs": [
    {
     "name": "stdout",
     "output_type": "stream",
     "text": [
      "Epoch 1/1000\n",
      "WARNING:tensorflow:From d:\\Programming\\Templates\\HandGestures\\.venv\\lib\\site-packages\\keras\\src\\utils\\tf_utils.py:492: The name tf.ragged.RaggedTensorValue is deprecated. Please use tf.compat.v1.ragged.RaggedTensorValue instead.\n",
      "\n",
      "WARNING:tensorflow:From d:\\Programming\\Templates\\HandGestures\\.venv\\lib\\site-packages\\keras\\src\\engine\\base_layer_utils.py:384: The name tf.executing_eagerly_outside_functions is deprecated. Please use tf.compat.v1.executing_eagerly_outside_functions instead.\n",
      "\n",
      "34/46 [=====================>........] - ETA: 0s - loss: 2.4728 - accuracy: 0.1448\n",
      "Epoch 1: saving model to model/keypoint_classifier\\keypoint_classifier.keras\n",
      "46/46 [==============================] - 4s 23ms/step - loss: 2.4589 - accuracy: 0.1546 - val_loss: 2.3881 - val_accuracy: 0.1684\n",
      "Epoch 2/1000\n",
      "29/46 [=================>............] - ETA: 0s - loss: 2.3656 - accuracy: 0.1886\n",
      "Epoch 2: saving model to model/keypoint_classifier\\keypoint_classifier.keras\n",
      "46/46 [==============================] - 0s 4ms/step - loss: 2.3436 - accuracy: 0.1911 - val_loss: 2.2546 - val_accuracy: 0.2201\n",
      "Epoch 3/1000\n",
      "29/46 [=================>............] - ETA: 0s - loss: 2.2328 - accuracy: 0.2322\n",
      "Epoch 3: saving model to model/keypoint_classifier\\keypoint_classifier.keras\n",
      "46/46 [==============================] - 0s 3ms/step - loss: 2.2175 - accuracy: 0.2339 - val_loss: 2.0884 - val_accuracy: 0.3362\n",
      "Epoch 4/1000\n",
      "32/46 [===================>..........] - ETA: 0s - loss: 2.1090 - accuracy: 0.2527\n",
      "Epoch 4: saving model to model/keypoint_classifier\\keypoint_classifier.keras\n",
      "46/46 [==============================] - 0s 3ms/step - loss: 2.0803 - accuracy: 0.2629 - val_loss: 1.9014 - val_accuracy: 0.3941\n",
      "Epoch 5/1000\n",
      "28/46 [=================>............] - ETA: 0s - loss: 1.9676 - accuracy: 0.2807\n",
      "Epoch 5: saving model to model/keypoint_classifier\\keypoint_classifier.keras\n",
      "46/46 [==============================] - 0s 5ms/step - loss: 1.9456 - accuracy: 0.2900 - val_loss: 1.7438 - val_accuracy: 0.4391\n",
      "Epoch 6/1000\n",
      "25/46 [===============>..............] - ETA: 0s - loss: 1.8707 - accuracy: 0.3216\n",
      "Epoch 6: saving model to model/keypoint_classifier\\keypoint_classifier.keras\n",
      "46/46 [==============================] - 0s 4ms/step - loss: 1.8566 - accuracy: 0.3171 - val_loss: 1.6218 - val_accuracy: 0.4539\n",
      "Epoch 7/1000\n",
      "29/46 [=================>............] - ETA: 0s - loss: 1.7921 - accuracy: 0.3429\n",
      "Epoch 7: saving model to model/keypoint_classifier\\keypoint_classifier.keras\n",
      "46/46 [==============================] - 0s 4ms/step - loss: 1.7696 - accuracy: 0.3478 - val_loss: 1.5181 - val_accuracy: 0.5087\n",
      "Epoch 8/1000\n",
      "28/46 [=================>............] - ETA: 0s - loss: 1.7458 - accuracy: 0.3549\n",
      "Epoch 8: saving model to model/keypoint_classifier\\keypoint_classifier.keras\n",
      "46/46 [==============================] - 0s 4ms/step - loss: 1.7273 - accuracy: 0.3651 - val_loss: 1.4354 - val_accuracy: 0.5553\n",
      "Epoch 9/1000\n",
      "37/46 [=======================>......] - ETA: 0s - loss: 1.6559 - accuracy: 0.3879\n",
      "Epoch 9: saving model to model/keypoint_classifier\\keypoint_classifier.keras\n",
      "46/46 [==============================] - 0s 4ms/step - loss: 1.6594 - accuracy: 0.3838 - val_loss: 1.3660 - val_accuracy: 0.5727\n",
      "Epoch 10/1000\n",
      "42/46 [==========================>...] - ETA: 0s - loss: 1.6254 - accuracy: 0.3899\n",
      "Epoch 10: saving model to model/keypoint_classifier\\keypoint_classifier.keras\n",
      "46/46 [==============================] - 0s 7ms/step - loss: 1.6229 - accuracy: 0.3915 - val_loss: 1.3119 - val_accuracy: 0.5957\n",
      "Epoch 11/1000\n",
      "28/46 [=================>............] - ETA: 0s - loss: 1.5908 - accuracy: 0.4043\n",
      "Epoch 11: saving model to model/keypoint_classifier\\keypoint_classifier.keras\n",
      "46/46 [==============================] - 0s 4ms/step - loss: 1.5801 - accuracy: 0.4130 - val_loss: 1.2453 - val_accuracy: 0.6034\n",
      "Epoch 12/1000\n",
      "32/46 [===================>..........] - ETA: 0s - loss: 1.5457 - accuracy: 0.4160\n",
      "Epoch 12: saving model to model/keypoint_classifier\\keypoint_classifier.keras\n",
      "46/46 [==============================] - 0s 5ms/step - loss: 1.5410 - accuracy: 0.4210 - val_loss: 1.2008 - val_accuracy: 0.6310\n",
      "Epoch 13/1000\n",
      "27/46 [================>.............] - ETA: 0s - loss: 1.4790 - accuracy: 0.4549\n",
      "Epoch 13: saving model to model/keypoint_classifier\\keypoint_classifier.keras\n",
      "46/46 [==============================] - 0s 4ms/step - loss: 1.5084 - accuracy: 0.4430 - val_loss: 1.1643 - val_accuracy: 0.6525\n",
      "Epoch 14/1000\n",
      "45/46 [============================>.] - ETA: 0s - loss: 1.4983 - accuracy: 0.4457\n",
      "Epoch 14: saving model to model/keypoint_classifier\\keypoint_classifier.keras\n",
      "46/46 [==============================] - 0s 6ms/step - loss: 1.5001 - accuracy: 0.4451 - val_loss: 1.1267 - val_accuracy: 0.6566\n",
      "Epoch 15/1000\n",
      "42/46 [==========================>...] - ETA: 0s - loss: 1.4881 - accuracy: 0.4533\n",
      "Epoch 15: saving model to model/keypoint_classifier\\keypoint_classifier.keras\n",
      "46/46 [==============================] - 0s 5ms/step - loss: 1.4849 - accuracy: 0.4527 - val_loss: 1.1035 - val_accuracy: 0.6740\n",
      "Epoch 16/1000\n",
      "36/46 [======================>.......] - ETA: 0s - loss: 1.4508 - accuracy: 0.4592\n",
      "Epoch 16: saving model to model/keypoint_classifier\\keypoint_classifier.keras\n",
      "46/46 [==============================] - 0s 7ms/step - loss: 1.4393 - accuracy: 0.4649 - val_loss: 1.0647 - val_accuracy: 0.6807\n",
      "Epoch 17/1000\n",
      "39/46 [========================>.....] - ETA: 0s - loss: 1.4419 - accuracy: 0.4758\n",
      "Epoch 17: saving model to model/keypoint_classifier\\keypoint_classifier.keras\n",
      "46/46 [==============================] - 0s 6ms/step - loss: 1.4364 - accuracy: 0.4775 - val_loss: 1.0528 - val_accuracy: 0.6960\n",
      "Epoch 18/1000\n",
      "35/46 [=====================>........] - ETA: 0s - loss: 1.4237 - accuracy: 0.4674\n",
      "Epoch 18: saving model to model/keypoint_classifier\\keypoint_classifier.keras\n",
      "46/46 [==============================] - 0s 6ms/step - loss: 1.4240 - accuracy: 0.4684 - val_loss: 1.0230 - val_accuracy: 0.7083\n",
      "Epoch 19/1000\n",
      "41/46 [=========================>....] - ETA: 0s - loss: 1.3825 - accuracy: 0.4950\n",
      "Epoch 19: saving model to model/keypoint_classifier\\keypoint_classifier.keras\n",
      "46/46 [==============================] - 0s 5ms/step - loss: 1.3791 - accuracy: 0.4947 - val_loss: 0.9952 - val_accuracy: 0.7165\n",
      "Epoch 20/1000\n",
      "39/46 [========================>.....] - ETA: 0s - loss: 1.3732 - accuracy: 0.4948\n",
      "Epoch 20: saving model to model/keypoint_classifier\\keypoint_classifier.keras\n",
      "46/46 [==============================] - 0s 5ms/step - loss: 1.3757 - accuracy: 0.4961 - val_loss: 0.9786 - val_accuracy: 0.7160\n",
      "Epoch 21/1000\n",
      "42/46 [==========================>...] - ETA: 0s - loss: 1.3804 - accuracy: 0.4946\n",
      "Epoch 21: saving model to model/keypoint_classifier\\keypoint_classifier.keras\n",
      "46/46 [==============================] - 0s 4ms/step - loss: 1.3786 - accuracy: 0.4954 - val_loss: 0.9684 - val_accuracy: 0.7211\n",
      "Epoch 22/1000\n",
      "31/46 [===================>..........] - ETA: 0s - loss: 1.3523 - accuracy: 0.5008\n",
      "Epoch 22: saving model to model/keypoint_classifier\\keypoint_classifier.keras\n",
      "46/46 [==============================] - 0s 7ms/step - loss: 1.3486 - accuracy: 0.5024 - val_loss: 0.9500 - val_accuracy: 0.7400\n",
      "Epoch 23/1000\n",
      "24/46 [==============>...............] - ETA: 0s - loss: 1.3475 - accuracy: 0.5046\n",
      "Epoch 23: saving model to model/keypoint_classifier\\keypoint_classifier.keras\n",
      "46/46 [==============================] - 0s 4ms/step - loss: 1.3332 - accuracy: 0.5092 - val_loss: 0.9306 - val_accuracy: 0.7426\n",
      "Epoch 24/1000\n",
      "36/46 [======================>.......] - ETA: 0s - loss: 1.3293 - accuracy: 0.5074\n",
      "Epoch 24: saving model to model/keypoint_classifier\\keypoint_classifier.keras\n",
      "46/46 [==============================] - 0s 5ms/step - loss: 1.3306 - accuracy: 0.5087 - val_loss: 0.9139 - val_accuracy: 0.7528\n",
      "Epoch 25/1000\n",
      "31/46 [===================>..........] - ETA: 0s - loss: 1.3186 - accuracy: 0.5101\n",
      "Epoch 25: saving model to model/keypoint_classifier\\keypoint_classifier.keras\n",
      "46/46 [==============================] - 0s 5ms/step - loss: 1.3228 - accuracy: 0.5128 - val_loss: 0.9041 - val_accuracy: 0.7625\n",
      "Epoch 26/1000\n",
      "25/46 [===============>..............] - ETA: 0s - loss: 1.3322 - accuracy: 0.5072\n",
      "Epoch 26: saving model to model/keypoint_classifier\\keypoint_classifier.keras\n",
      "46/46 [==============================] - 0s 4ms/step - loss: 1.3012 - accuracy: 0.5215 - val_loss: 0.8934 - val_accuracy: 0.7666\n",
      "Epoch 27/1000\n",
      "34/46 [=====================>........] - ETA: 0s - loss: 1.2950 - accuracy: 0.5253\n",
      "Epoch 27: saving model to model/keypoint_classifier\\keypoint_classifier.keras\n",
      "46/46 [==============================] - 0s 6ms/step - loss: 1.2936 - accuracy: 0.5215 - val_loss: 0.8769 - val_accuracy: 0.7779\n",
      "Epoch 28/1000\n",
      "42/46 [==========================>...] - ETA: 0s - loss: 1.2876 - accuracy: 0.5340\n",
      "Epoch 28: saving model to model/keypoint_classifier\\keypoint_classifier.keras\n",
      "46/46 [==============================] - 0s 5ms/step - loss: 1.2845 - accuracy: 0.5333 - val_loss: 0.8667 - val_accuracy: 0.7789\n",
      "Epoch 29/1000\n",
      "42/46 [==========================>...] - ETA: 0s - loss: 1.2720 - accuracy: 0.5413\n",
      "Epoch 29: saving model to model/keypoint_classifier\\keypoint_classifier.keras\n",
      "46/46 [==============================] - 0s 5ms/step - loss: 1.2679 - accuracy: 0.5421 - val_loss: 0.8452 - val_accuracy: 0.7769\n",
      "Epoch 30/1000\n",
      "38/46 [=======================>......] - ETA: 0s - loss: 1.2778 - accuracy: 0.5356\n",
      "Epoch 30: saving model to model/keypoint_classifier\\keypoint_classifier.keras\n",
      "46/46 [==============================] - 0s 6ms/step - loss: 1.2712 - accuracy: 0.5355 - val_loss: 0.8367 - val_accuracy: 0.7881\n",
      "Epoch 31/1000\n",
      "46/46 [==============================] - ETA: 0s - loss: 1.2690 - accuracy: 0.5442\n",
      "Epoch 31: saving model to model/keypoint_classifier\\keypoint_classifier.keras\n",
      "46/46 [==============================] - 0s 7ms/step - loss: 1.2690 - accuracy: 0.5442 - val_loss: 0.8300 - val_accuracy: 0.7907\n",
      "Epoch 32/1000\n",
      "32/46 [===================>..........] - ETA: 0s - loss: 1.2602 - accuracy: 0.5410\n",
      "Epoch 32: saving model to model/keypoint_classifier\\keypoint_classifier.keras\n",
      "46/46 [==============================] - 0s 6ms/step - loss: 1.2659 - accuracy: 0.5394 - val_loss: 0.8218 - val_accuracy: 0.7938\n",
      "Epoch 33/1000\n",
      "34/46 [=====================>........] - ETA: 0s - loss: 1.2348 - accuracy: 0.5602\n",
      "Epoch 33: saving model to model/keypoint_classifier\\keypoint_classifier.keras\n",
      "46/46 [==============================] - 0s 8ms/step - loss: 1.2396 - accuracy: 0.5542 - val_loss: 0.8059 - val_accuracy: 0.7917\n",
      "Epoch 34/1000\n",
      "45/46 [============================>.] - ETA: 0s - loss: 1.2288 - accuracy: 0.5521\n",
      "Epoch 34: saving model to model/keypoint_classifier\\keypoint_classifier.keras\n",
      "46/46 [==============================] - 0s 7ms/step - loss: 1.2294 - accuracy: 0.5513 - val_loss: 0.7906 - val_accuracy: 0.7948\n",
      "Epoch 35/1000\n",
      "42/46 [==========================>...] - ETA: 0s - loss: 1.2464 - accuracy: 0.5545\n",
      "Epoch 35: saving model to model/keypoint_classifier\\keypoint_classifier.keras\n",
      "46/46 [==============================] - 0s 7ms/step - loss: 1.2455 - accuracy: 0.5548 - val_loss: 0.7891 - val_accuracy: 0.7943\n",
      "Epoch 36/1000\n",
      "40/46 [=========================>....] - ETA: 0s - loss: 1.2506 - accuracy: 0.5520\n",
      "Epoch 36: saving model to model/keypoint_classifier\\keypoint_classifier.keras\n",
      "46/46 [==============================] - 0s 5ms/step - loss: 1.2371 - accuracy: 0.5578 - val_loss: 0.7879 - val_accuracy: 0.7979\n",
      "Epoch 37/1000\n",
      "37/46 [=======================>......] - ETA: 0s - loss: 1.2172 - accuracy: 0.5646\n",
      "Epoch 37: saving model to model/keypoint_classifier\\keypoint_classifier.keras\n",
      "46/46 [==============================] - 0s 8ms/step - loss: 1.2194 - accuracy: 0.5629 - val_loss: 0.7720 - val_accuracy: 0.7922\n",
      "Epoch 38/1000\n",
      "42/46 [==========================>...] - ETA: 0s - loss: 1.2111 - accuracy: 0.5632\n",
      "Epoch 38: saving model to model/keypoint_classifier\\keypoint_classifier.keras\n",
      "46/46 [==============================] - 0s 7ms/step - loss: 1.2089 - accuracy: 0.5657 - val_loss: 0.7718 - val_accuracy: 0.8004\n",
      "Epoch 39/1000\n",
      "37/46 [=======================>......] - ETA: 0s - loss: 1.2090 - accuracy: 0.5731\n",
      "Epoch 39: saving model to model/keypoint_classifier\\keypoint_classifier.keras\n",
      "46/46 [==============================] - 0s 6ms/step - loss: 1.2069 - accuracy: 0.5728 - val_loss: 0.7626 - val_accuracy: 0.8014\n",
      "Epoch 40/1000\n",
      "42/46 [==========================>...] - ETA: 0s - loss: 1.2193 - accuracy: 0.5616\n",
      "Epoch 40: saving model to model/keypoint_classifier\\keypoint_classifier.keras\n",
      "46/46 [==============================] - 0s 6ms/step - loss: 1.2243 - accuracy: 0.5602 - val_loss: 0.7636 - val_accuracy: 0.7989\n",
      "Epoch 41/1000\n",
      "35/46 [=====================>........] - ETA: 0s - loss: 1.2028 - accuracy: 0.5676\n",
      "Epoch 41: saving model to model/keypoint_classifier\\keypoint_classifier.keras\n",
      "46/46 [==============================] - 0s 6ms/step - loss: 1.2088 - accuracy: 0.5643 - val_loss: 0.7535 - val_accuracy: 0.8040\n",
      "Epoch 42/1000\n",
      "43/46 [===========================>..] - ETA: 0s - loss: 1.2021 - accuracy: 0.5674\n",
      "Epoch 42: saving model to model/keypoint_classifier\\keypoint_classifier.keras\n",
      "46/46 [==============================] - 0s 8ms/step - loss: 1.1977 - accuracy: 0.5672 - val_loss: 0.7483 - val_accuracy: 0.8040\n",
      "Epoch 43/1000\n",
      "36/46 [======================>.......] - ETA: 0s - loss: 1.2096 - accuracy: 0.5649\n",
      "Epoch 43: saving model to model/keypoint_classifier\\keypoint_classifier.keras\n",
      "46/46 [==============================] - 0s 6ms/step - loss: 1.2053 - accuracy: 0.5662 - val_loss: 0.7497 - val_accuracy: 0.8071\n",
      "Epoch 44/1000\n",
      "34/46 [=====================>........] - ETA: 0s - loss: 1.2080 - accuracy: 0.5685\n",
      "Epoch 44: saving model to model/keypoint_classifier\\keypoint_classifier.keras\n",
      "46/46 [==============================] - 0s 6ms/step - loss: 1.2069 - accuracy: 0.5723 - val_loss: 0.7496 - val_accuracy: 0.8025\n",
      "Epoch 45/1000\n",
      "36/46 [======================>.......] - ETA: 0s - loss: 1.1997 - accuracy: 0.5684\n",
      "Epoch 45: saving model to model/keypoint_classifier\\keypoint_classifier.keras\n",
      "46/46 [==============================] - 0s 6ms/step - loss: 1.2093 - accuracy: 0.5629 - val_loss: 0.7387 - val_accuracy: 0.8035\n",
      "Epoch 46/1000\n",
      "44/46 [===========================>..] - ETA: 0s - loss: 1.1930 - accuracy: 0.5756\n",
      "Epoch 46: saving model to model/keypoint_classifier\\keypoint_classifier.keras\n",
      "46/46 [==============================] - 0s 7ms/step - loss: 1.1926 - accuracy: 0.5757 - val_loss: 0.7314 - val_accuracy: 0.8035\n",
      "Epoch 47/1000\n",
      "44/46 [===========================>..] - ETA: 0s - loss: 1.1800 - accuracy: 0.5806\n",
      "Epoch 47: saving model to model/keypoint_classifier\\keypoint_classifier.keras\n",
      "46/46 [==============================] - 0s 7ms/step - loss: 1.1852 - accuracy: 0.5785 - val_loss: 0.7222 - val_accuracy: 0.8091\n",
      "Epoch 48/1000\n",
      "33/46 [====================>.........] - ETA: 0s - loss: 1.1921 - accuracy: 0.5684\n",
      "Epoch 48: saving model to model/keypoint_classifier\\keypoint_classifier.keras\n",
      "46/46 [==============================] - 0s 6ms/step - loss: 1.1977 - accuracy: 0.5701 - val_loss: 0.7242 - val_accuracy: 0.8076\n",
      "Epoch 49/1000\n",
      "32/46 [===================>..........] - ETA: 0s - loss: 1.1903 - accuracy: 0.5723\n",
      "Epoch 49: saving model to model/keypoint_classifier\\keypoint_classifier.keras\n",
      "46/46 [==============================] - 0s 6ms/step - loss: 1.1945 - accuracy: 0.5737 - val_loss: 0.7174 - val_accuracy: 0.8071\n",
      "Epoch 50/1000\n",
      "43/46 [===========================>..] - ETA: 0s - loss: 1.1772 - accuracy: 0.5681\n",
      "Epoch 50: saving model to model/keypoint_classifier\\keypoint_classifier.keras\n",
      "46/46 [==============================] - 0s 7ms/step - loss: 1.1838 - accuracy: 0.5670 - val_loss: 0.7256 - val_accuracy: 0.8106\n",
      "Epoch 51/1000\n",
      "31/46 [===================>..........] - ETA: 0s - loss: 1.1687 - accuracy: 0.5832\n",
      "Epoch 51: saving model to model/keypoint_classifier\\keypoint_classifier.keras\n",
      "46/46 [==============================] - 0s 6ms/step - loss: 1.1695 - accuracy: 0.5824 - val_loss: 0.7106 - val_accuracy: 0.8122\n",
      "Epoch 52/1000\n",
      "34/46 [=====================>........] - ETA: 0s - loss: 1.1833 - accuracy: 0.5777\n",
      "Epoch 52: saving model to model/keypoint_classifier\\keypoint_classifier.keras\n",
      "46/46 [==============================] - 0s 8ms/step - loss: 1.1814 - accuracy: 0.5773 - val_loss: 0.7114 - val_accuracy: 0.8112\n",
      "Epoch 53/1000\n",
      "36/46 [======================>.......] - ETA: 0s - loss: 1.1471 - accuracy: 0.5970\n",
      "Epoch 53: saving model to model/keypoint_classifier\\keypoint_classifier.keras\n",
      "46/46 [==============================] - 0s 6ms/step - loss: 1.1531 - accuracy: 0.5937 - val_loss: 0.6963 - val_accuracy: 0.8209\n",
      "Epoch 54/1000\n",
      "35/46 [=====================>........] - ETA: 0s - loss: 1.1638 - accuracy: 0.5938\n",
      "Epoch 54: saving model to model/keypoint_classifier\\keypoint_classifier.keras\n",
      "46/46 [==============================] - 0s 7ms/step - loss: 1.1499 - accuracy: 0.5966 - val_loss: 0.6809 - val_accuracy: 0.8199\n",
      "Epoch 55/1000\n",
      "44/46 [===========================>..] - ETA: 0s - loss: 1.1419 - accuracy: 0.5863\n",
      "Epoch 55: saving model to model/keypoint_classifier\\keypoint_classifier.keras\n",
      "46/46 [==============================] - 0s 7ms/step - loss: 1.1421 - accuracy: 0.5870 - val_loss: 0.6814 - val_accuracy: 0.8229\n",
      "Epoch 56/1000\n",
      "35/46 [=====================>........] - ETA: 0s - loss: 1.1592 - accuracy: 0.5886\n",
      "Epoch 56: saving model to model/keypoint_classifier\\keypoint_classifier.keras\n",
      "46/46 [==============================] - 0s 6ms/step - loss: 1.1628 - accuracy: 0.5870 - val_loss: 0.6862 - val_accuracy: 0.8168\n",
      "Epoch 57/1000\n",
      "36/46 [======================>.......] - ETA: 0s - loss: 1.1646 - accuracy: 0.5849\n",
      "Epoch 57: saving model to model/keypoint_classifier\\keypoint_classifier.keras\n",
      "46/46 [==============================] - 0s 6ms/step - loss: 1.1592 - accuracy: 0.5850 - val_loss: 0.6813 - val_accuracy: 0.8224\n",
      "Epoch 58/1000\n",
      "36/46 [======================>.......] - ETA: 0s - loss: 1.1249 - accuracy: 0.6048\n",
      "Epoch 58: saving model to model/keypoint_classifier\\keypoint_classifier.keras\n",
      "46/46 [==============================] - 0s 6ms/step - loss: 1.1282 - accuracy: 0.6003 - val_loss: 0.6754 - val_accuracy: 0.8204\n",
      "Epoch 59/1000\n",
      "40/46 [=========================>....] - ETA: 0s - loss: 1.1638 - accuracy: 0.5830\n",
      "Epoch 59: saving model to model/keypoint_classifier\\keypoint_classifier.keras\n",
      "46/46 [==============================] - 0s 7ms/step - loss: 1.1637 - accuracy: 0.5855 - val_loss: 0.6720 - val_accuracy: 0.8250\n",
      "Epoch 60/1000\n",
      "39/46 [========================>.....] - ETA: 0s - loss: 1.1525 - accuracy: 0.5833\n",
      "Epoch 60: saving model to model/keypoint_classifier\\keypoint_classifier.keras\n",
      "46/46 [==============================] - 0s 5ms/step - loss: 1.1563 - accuracy: 0.5814 - val_loss: 0.6699 - val_accuracy: 0.8286\n",
      "Epoch 61/1000\n",
      "39/46 [========================>.....] - ETA: 0s - loss: 1.1573 - accuracy: 0.5843\n",
      "Epoch 61: saving model to model/keypoint_classifier\\keypoint_classifier.keras\n",
      "46/46 [==============================] - 0s 6ms/step - loss: 1.1514 - accuracy: 0.5860 - val_loss: 0.6645 - val_accuracy: 0.8347\n",
      "Epoch 62/1000\n",
      "41/46 [=========================>....] - ETA: 0s - loss: 1.1413 - accuracy: 0.5873\n",
      "Epoch 62: saving model to model/keypoint_classifier\\keypoint_classifier.keras\n",
      "46/46 [==============================] - 0s 7ms/step - loss: 1.1388 - accuracy: 0.5901 - val_loss: 0.6645 - val_accuracy: 0.8311\n",
      "Epoch 63/1000\n",
      "33/46 [====================>.........] - ETA: 0s - loss: 1.1492 - accuracy: 0.5862\n",
      "Epoch 63: saving model to model/keypoint_classifier\\keypoint_classifier.keras\n",
      "46/46 [==============================] - 0s 6ms/step - loss: 1.1426 - accuracy: 0.5896 - val_loss: 0.6567 - val_accuracy: 0.8337\n",
      "Epoch 64/1000\n",
      "46/46 [==============================] - ETA: 0s - loss: 1.1301 - accuracy: 0.5899\n",
      "Epoch 64: saving model to model/keypoint_classifier\\keypoint_classifier.keras\n",
      "46/46 [==============================] - 0s 6ms/step - loss: 1.1301 - accuracy: 0.5899 - val_loss: 0.6528 - val_accuracy: 0.8280\n",
      "Epoch 65/1000\n",
      "37/46 [=======================>......] - ETA: 0s - loss: 1.1290 - accuracy: 0.6018\n",
      "Epoch 65: saving model to model/keypoint_classifier\\keypoint_classifier.keras\n",
      "46/46 [==============================] - 0s 6ms/step - loss: 1.1229 - accuracy: 0.6012 - val_loss: 0.6571 - val_accuracy: 0.8301\n",
      "Epoch 66/1000\n",
      "36/46 [======================>.......] - ETA: 0s - loss: 1.1315 - accuracy: 0.5918\n",
      "Epoch 66: saving model to model/keypoint_classifier\\keypoint_classifier.keras\n",
      "46/46 [==============================] - 0s 6ms/step - loss: 1.1337 - accuracy: 0.5989 - val_loss: 0.6554 - val_accuracy: 0.8357\n",
      "Epoch 67/1000\n",
      "42/46 [==========================>...] - ETA: 0s - loss: 1.1137 - accuracy: 0.6008\n",
      "Epoch 67: saving model to model/keypoint_classifier\\keypoint_classifier.keras\n",
      "46/46 [==============================] - 0s 6ms/step - loss: 1.1166 - accuracy: 0.6006 - val_loss: 0.6462 - val_accuracy: 0.8362\n",
      "Epoch 68/1000\n",
      "36/46 [======================>.......] - ETA: 0s - loss: 1.1126 - accuracy: 0.6048\n",
      "Epoch 68: saving model to model/keypoint_classifier\\keypoint_classifier.keras\n",
      "46/46 [==============================] - 0s 6ms/step - loss: 1.1196 - accuracy: 0.5988 - val_loss: 0.6391 - val_accuracy: 0.8383\n",
      "Epoch 69/1000\n",
      "36/46 [======================>.......] - ETA: 0s - loss: 1.1227 - accuracy: 0.5977\n",
      "Epoch 69: saving model to model/keypoint_classifier\\keypoint_classifier.keras\n",
      "46/46 [==============================] - 0s 8ms/step - loss: 1.1300 - accuracy: 0.5933 - val_loss: 0.6428 - val_accuracy: 0.8337\n",
      "Epoch 70/1000\n",
      "37/46 [=======================>......] - ETA: 0s - loss: 1.1209 - accuracy: 0.6081\n",
      "Epoch 70: saving model to model/keypoint_classifier\\keypoint_classifier.keras\n",
      "46/46 [==============================] - 0s 6ms/step - loss: 1.1164 - accuracy: 0.6078 - val_loss: 0.6387 - val_accuracy: 0.8342\n",
      "Epoch 71/1000\n",
      "37/46 [=======================>......] - ETA: 0s - loss: 1.1132 - accuracy: 0.6026\n",
      "Epoch 71: saving model to model/keypoint_classifier\\keypoint_classifier.keras\n",
      "46/46 [==============================] - 0s 6ms/step - loss: 1.0994 - accuracy: 0.6041 - val_loss: 0.6356 - val_accuracy: 0.8352\n",
      "Epoch 72/1000\n",
      "36/46 [======================>.......] - ETA: 0s - loss: 1.0994 - accuracy: 0.6094\n",
      "Epoch 72: saving model to model/keypoint_classifier\\keypoint_classifier.keras\n",
      "46/46 [==============================] - 0s 6ms/step - loss: 1.1055 - accuracy: 0.6046 - val_loss: 0.6338 - val_accuracy: 0.8357\n",
      "Epoch 73/1000\n",
      "36/46 [======================>.......] - ETA: 0s - loss: 1.1298 - accuracy: 0.5983\n",
      "Epoch 73: saving model to model/keypoint_classifier\\keypoint_classifier.keras\n",
      "46/46 [==============================] - 0s 8ms/step - loss: 1.1335 - accuracy: 0.5986 - val_loss: 0.6452 - val_accuracy: 0.8373\n",
      "Epoch 74/1000\n",
      "34/46 [=====================>........] - ETA: 0s - loss: 1.1196 - accuracy: 0.5919\n",
      "Epoch 74: saving model to model/keypoint_classifier\\keypoint_classifier.keras\n",
      "46/46 [==============================] - 0s 6ms/step - loss: 1.1115 - accuracy: 0.5955 - val_loss: 0.6334 - val_accuracy: 0.8357\n",
      "Epoch 75/1000\n",
      "34/46 [=====================>........] - ETA: 0s - loss: 1.1033 - accuracy: 0.6064\n",
      "Epoch 75: saving model to model/keypoint_classifier\\keypoint_classifier.keras\n",
      "46/46 [==============================] - 0s 9ms/step - loss: 1.1019 - accuracy: 0.6078 - val_loss: 0.6259 - val_accuracy: 0.8398\n",
      "Epoch 76/1000\n",
      "33/46 [====================>.........] - ETA: 0s - loss: 1.0770 - accuracy: 0.6080\n",
      "Epoch 76: saving model to model/keypoint_classifier\\keypoint_classifier.keras\n",
      "46/46 [==============================] - 0s 6ms/step - loss: 1.0806 - accuracy: 0.6075 - val_loss: 0.6247 - val_accuracy: 0.8347\n",
      "Epoch 77/1000\n",
      "43/46 [===========================>..] - ETA: 0s - loss: 1.1145 - accuracy: 0.5970\n",
      "Epoch 77: saving model to model/keypoint_classifier\\keypoint_classifier.keras\n",
      "46/46 [==============================] - 0s 7ms/step - loss: 1.1104 - accuracy: 0.5979 - val_loss: 0.6273 - val_accuracy: 0.8444\n",
      "Epoch 78/1000\n",
      "46/46 [==============================] - ETA: 0s - loss: 1.1088 - accuracy: 0.6030\n",
      "Epoch 78: saving model to model/keypoint_classifier\\keypoint_classifier.keras\n",
      "46/46 [==============================] - 0s 7ms/step - loss: 1.1088 - accuracy: 0.6030 - val_loss: 0.6189 - val_accuracy: 0.8403\n",
      "Epoch 79/1000\n",
      "46/46 [==============================] - ETA: 0s - loss: 1.1033 - accuracy: 0.6121\n",
      "Epoch 79: saving model to model/keypoint_classifier\\keypoint_classifier.keras\n",
      "46/46 [==============================] - 0s 7ms/step - loss: 1.1033 - accuracy: 0.6121 - val_loss: 0.6195 - val_accuracy: 0.8388\n",
      "Epoch 80/1000\n",
      "38/46 [=======================>......] - ETA: 0s - loss: 1.1186 - accuracy: 0.6094\n",
      "Epoch 80: saving model to model/keypoint_classifier\\keypoint_classifier.keras\n",
      "46/46 [==============================] - 0s 8ms/step - loss: 1.1167 - accuracy: 0.6090 - val_loss: 0.6210 - val_accuracy: 0.8383\n",
      "Epoch 81/1000\n",
      "42/46 [==========================>...] - ETA: 0s - loss: 1.0817 - accuracy: 0.6047\n",
      "Epoch 81: saving model to model/keypoint_classifier\\keypoint_classifier.keras\n",
      "46/46 [==============================] - 0s 7ms/step - loss: 1.0857 - accuracy: 0.6059 - val_loss: 0.6093 - val_accuracy: 0.8449\n",
      "Epoch 82/1000\n",
      "38/46 [=======================>......] - ETA: 0s - loss: 1.1030 - accuracy: 0.6053\n",
      "Epoch 82: saving model to model/keypoint_classifier\\keypoint_classifier.keras\n",
      "46/46 [==============================] - 0s 8ms/step - loss: 1.0978 - accuracy: 0.6068 - val_loss: 0.6241 - val_accuracy: 0.8362\n",
      "Epoch 83/1000\n",
      "44/46 [===========================>..] - ETA: 0s - loss: 1.0787 - accuracy: 0.6126\n",
      "Epoch 83: saving model to model/keypoint_classifier\\keypoint_classifier.keras\n",
      "46/46 [==============================] - 0s 7ms/step - loss: 1.0792 - accuracy: 0.6119 - val_loss: 0.6134 - val_accuracy: 0.8373\n",
      "Epoch 84/1000\n",
      "32/46 [===================>..........] - ETA: 0s - loss: 1.0947 - accuracy: 0.6074\n",
      "Epoch 84: saving model to model/keypoint_classifier\\keypoint_classifier.keras\n",
      "46/46 [==============================] - 0s 6ms/step - loss: 1.1025 - accuracy: 0.6068 - val_loss: 0.6111 - val_accuracy: 0.8378\n",
      "Epoch 85/1000\n",
      "35/46 [=====================>........] - ETA: 0s - loss: 1.1133 - accuracy: 0.6092\n",
      "Epoch 85: saving model to model/keypoint_classifier\\keypoint_classifier.keras\n",
      "46/46 [==============================] - 0s 6ms/step - loss: 1.1156 - accuracy: 0.6097 - val_loss: 0.6096 - val_accuracy: 0.8408\n",
      "Epoch 86/1000\n",
      "37/46 [=======================>......] - ETA: 0s - loss: 1.0900 - accuracy: 0.6075\n",
      "Epoch 86: saving model to model/keypoint_classifier\\keypoint_classifier.keras\n",
      "46/46 [==============================] - 0s 6ms/step - loss: 1.0921 - accuracy: 0.6076 - val_loss: 0.6068 - val_accuracy: 0.8388\n",
      "Epoch 87/1000\n",
      "32/46 [===================>..........] - ETA: 0s - loss: 1.0864 - accuracy: 0.6079\n",
      "Epoch 87: saving model to model/keypoint_classifier\\keypoint_classifier.keras\n",
      "46/46 [==============================] - 0s 6ms/step - loss: 1.0942 - accuracy: 0.6117 - val_loss: 0.6191 - val_accuracy: 0.8414\n",
      "Epoch 88/1000\n",
      "42/46 [==========================>...] - ETA: 0s - loss: 1.0961 - accuracy: 0.6131\n",
      "Epoch 88: saving model to model/keypoint_classifier\\keypoint_classifier.keras\n",
      "46/46 [==============================] - 0s 9ms/step - loss: 1.0974 - accuracy: 0.6111 - val_loss: 0.6101 - val_accuracy: 0.8403\n",
      "Epoch 89/1000\n",
      "35/46 [=====================>........] - ETA: 0s - loss: 1.0943 - accuracy: 0.6029\n",
      "Epoch 89: saving model to model/keypoint_classifier\\keypoint_classifier.keras\n",
      "46/46 [==============================] - 0s 8ms/step - loss: 1.0924 - accuracy: 0.6042 - val_loss: 0.5987 - val_accuracy: 0.8403\n",
      "Epoch 90/1000\n",
      "45/46 [============================>.] - ETA: 0s - loss: 1.0685 - accuracy: 0.6224\n",
      "Epoch 90: saving model to model/keypoint_classifier\\keypoint_classifier.keras\n",
      "46/46 [==============================] - 0s 8ms/step - loss: 1.0688 - accuracy: 0.6213 - val_loss: 0.5948 - val_accuracy: 0.8454\n",
      "Epoch 91/1000\n",
      "43/46 [===========================>..] - ETA: 0s - loss: 1.0927 - accuracy: 0.6156\n",
      "Epoch 91: saving model to model/keypoint_classifier\\keypoint_classifier.keras\n",
      "46/46 [==============================] - 0s 7ms/step - loss: 1.0968 - accuracy: 0.6136 - val_loss: 0.5952 - val_accuracy: 0.8536\n",
      "Epoch 92/1000\n",
      "46/46 [==============================] - ETA: 0s - loss: 1.0815 - accuracy: 0.6134\n",
      "Epoch 92: saving model to model/keypoint_classifier\\keypoint_classifier.keras\n",
      "46/46 [==============================] - 0s 7ms/step - loss: 1.0815 - accuracy: 0.6134 - val_loss: 0.5888 - val_accuracy: 0.8449\n",
      "Epoch 93/1000\n",
      "44/46 [===========================>..] - ETA: 0s - loss: 1.0846 - accuracy: 0.6126\n",
      "Epoch 93: saving model to model/keypoint_classifier\\keypoint_classifier.keras\n",
      "46/46 [==============================] - 0s 7ms/step - loss: 1.0820 - accuracy: 0.6133 - val_loss: 0.5981 - val_accuracy: 0.8470\n",
      "Epoch 94/1000\n",
      "46/46 [==============================] - ETA: 0s - loss: 1.1013 - accuracy: 0.6024\n",
      "Epoch 94: saving model to model/keypoint_classifier\\keypoint_classifier.keras\n",
      "46/46 [==============================] - 0s 7ms/step - loss: 1.1013 - accuracy: 0.6024 - val_loss: 0.6054 - val_accuracy: 0.8465\n",
      "Epoch 95/1000\n",
      "42/46 [==========================>...] - ETA: 0s - loss: 1.0752 - accuracy: 0.6168\n",
      "Epoch 95: saving model to model/keypoint_classifier\\keypoint_classifier.keras\n",
      "46/46 [==============================] - 0s 8ms/step - loss: 1.0779 - accuracy: 0.6189 - val_loss: 0.5943 - val_accuracy: 0.8444\n",
      "Epoch 96/1000\n",
      "36/46 [======================>.......] - ETA: 0s - loss: 1.1058 - accuracy: 0.6068\n",
      "Epoch 96: saving model to model/keypoint_classifier\\keypoint_classifier.keras\n",
      "46/46 [==============================] - 0s 7ms/step - loss: 1.1007 - accuracy: 0.6078 - val_loss: 0.6049 - val_accuracy: 0.8449\n",
      "Epoch 97/1000\n",
      "37/46 [=======================>......] - ETA: 0s - loss: 1.0914 - accuracy: 0.6178\n",
      "Epoch 97: saving model to model/keypoint_classifier\\keypoint_classifier.keras\n",
      "46/46 [==============================] - 0s 9ms/step - loss: 1.0902 - accuracy: 0.6184 - val_loss: 0.5931 - val_accuracy: 0.8490\n",
      "Epoch 98/1000\n",
      "34/46 [=====================>........] - ETA: 0s - loss: 1.0743 - accuracy: 0.6085\n",
      "Epoch 98: saving model to model/keypoint_classifier\\keypoint_classifier.keras\n",
      "46/46 [==============================] - 0s 6ms/step - loss: 1.0685 - accuracy: 0.6145 - val_loss: 0.5908 - val_accuracy: 0.8511\n",
      "Epoch 99/1000\n",
      "34/46 [=====================>........] - ETA: 0s - loss: 1.0745 - accuracy: 0.6170\n",
      "Epoch 99: saving model to model/keypoint_classifier\\keypoint_classifier.keras\n",
      "46/46 [==============================] - 0s 6ms/step - loss: 1.0786 - accuracy: 0.6151 - val_loss: 0.5964 - val_accuracy: 0.8460\n",
      "Epoch 100/1000\n",
      "39/46 [========================>.....] - ETA: 0s - loss: 1.0554 - accuracy: 0.6222\n",
      "Epoch 100: saving model to model/keypoint_classifier\\keypoint_classifier.keras\n",
      "46/46 [==============================] - 0s 6ms/step - loss: 1.0620 - accuracy: 0.6191 - val_loss: 0.5907 - val_accuracy: 0.8495\n",
      "Epoch 101/1000\n",
      "39/46 [========================>.....] - ETA: 0s - loss: 1.0619 - accuracy: 0.6192\n",
      "Epoch 101: saving model to model/keypoint_classifier\\keypoint_classifier.keras\n",
      "46/46 [==============================] - 0s 9ms/step - loss: 1.0597 - accuracy: 0.6220 - val_loss: 0.5923 - val_accuracy: 0.8490\n",
      "Epoch 102/1000\n",
      "38/46 [=======================>......] - ETA: 0s - loss: 1.0711 - accuracy: 0.6178\n",
      "Epoch 102: saving model to model/keypoint_classifier\\keypoint_classifier.keras\n",
      "46/46 [==============================] - 0s 9ms/step - loss: 1.0695 - accuracy: 0.6177 - val_loss: 0.5768 - val_accuracy: 0.8501\n",
      "Epoch 103/1000\n",
      "46/46 [==============================] - ETA: 0s - loss: 1.0838 - accuracy: 0.6170\n",
      "Epoch 103: saving model to model/keypoint_classifier\\keypoint_classifier.keras\n",
      "46/46 [==============================] - 0s 7ms/step - loss: 1.0838 - accuracy: 0.6170 - val_loss: 0.5988 - val_accuracy: 0.8475\n",
      "Epoch 104/1000\n",
      "32/46 [===================>..........] - ETA: 0s - loss: 1.0604 - accuracy: 0.6194\n",
      "Epoch 104: saving model to model/keypoint_classifier\\keypoint_classifier.keras\n",
      "46/46 [==============================] - 0s 7ms/step - loss: 1.0687 - accuracy: 0.6196 - val_loss: 0.5898 - val_accuracy: 0.8475\n",
      "Epoch 105/1000\n",
      "38/46 [=======================>......] - ETA: 0s - loss: 1.0588 - accuracy: 0.6219\n",
      "Epoch 105: saving model to model/keypoint_classifier\\keypoint_classifier.keras\n",
      "46/46 [==============================] - 0s 7ms/step - loss: 1.0569 - accuracy: 0.6213 - val_loss: 0.5913 - val_accuracy: 0.8480\n",
      "Epoch 106/1000\n",
      "35/46 [=====================>........] - ETA: 0s - loss: 1.0481 - accuracy: 0.6201\n",
      "Epoch 106: saving model to model/keypoint_classifier\\keypoint_classifier.keras\n",
      "46/46 [==============================] - 0s 7ms/step - loss: 1.0605 - accuracy: 0.6169 - val_loss: 0.5802 - val_accuracy: 0.8547\n",
      "Epoch 107/1000\n",
      "32/46 [===================>..........] - ETA: 0s - loss: 1.0740 - accuracy: 0.6184\n",
      "Epoch 107: saving model to model/keypoint_classifier\\keypoint_classifier.keras\n",
      "46/46 [==============================] - 0s 6ms/step - loss: 1.0636 - accuracy: 0.6194 - val_loss: 0.5841 - val_accuracy: 0.8460\n",
      "Epoch 108/1000\n",
      "35/46 [=====================>........] - ETA: 0s - loss: 1.0862 - accuracy: 0.6158\n",
      "Epoch 108: saving model to model/keypoint_classifier\\keypoint_classifier.keras\n",
      "46/46 [==============================] - 0s 6ms/step - loss: 1.0779 - accuracy: 0.6169 - val_loss: 0.5851 - val_accuracy: 0.8547\n",
      "Epoch 109/1000\n",
      "37/46 [=======================>......] - ETA: 0s - loss: 1.0500 - accuracy: 0.6261\n",
      "Epoch 109: saving model to model/keypoint_classifier\\keypoint_classifier.keras\n",
      "46/46 [==============================] - 0s 6ms/step - loss: 1.0560 - accuracy: 0.6242 - val_loss: 0.5831 - val_accuracy: 0.8526\n",
      "Epoch 110/1000\n",
      "36/46 [======================>.......] - ETA: 0s - loss: 1.0446 - accuracy: 0.6215\n",
      "Epoch 110: saving model to model/keypoint_classifier\\keypoint_classifier.keras\n",
      "46/46 [==============================] - 0s 6ms/step - loss: 1.0609 - accuracy: 0.6186 - val_loss: 0.5881 - val_accuracy: 0.8521\n",
      "Epoch 111/1000\n",
      "35/46 [=====================>........] - ETA: 0s - loss: 1.0563 - accuracy: 0.6192\n",
      "Epoch 111: saving model to model/keypoint_classifier\\keypoint_classifier.keras\n",
      "46/46 [==============================] - 0s 6ms/step - loss: 1.0563 - accuracy: 0.6169 - val_loss: 0.5844 - val_accuracy: 0.8577\n",
      "Epoch 112/1000\n",
      "38/46 [=======================>......] - ETA: 0s - loss: 1.0402 - accuracy: 0.6336\n",
      "Epoch 112: saving model to model/keypoint_classifier\\keypoint_classifier.keras\n",
      "46/46 [==============================] - 0s 6ms/step - loss: 1.0409 - accuracy: 0.6324 - val_loss: 0.5819 - val_accuracy: 0.8526\n",
      "Epoch 113/1000\n",
      "33/46 [====================>.........] - ETA: 0s - loss: 1.0688 - accuracy: 0.6179\n",
      "Epoch 113: saving model to model/keypoint_classifier\\keypoint_classifier.keras\n",
      "46/46 [==============================] - 0s 6ms/step - loss: 1.0709 - accuracy: 0.6192 - val_loss: 0.5851 - val_accuracy: 0.8562\n",
      "Epoch 114/1000\n",
      "34/46 [=====================>........] - ETA: 0s - loss: 1.0760 - accuracy: 0.6105\n",
      "Epoch 114: saving model to model/keypoint_classifier\\keypoint_classifier.keras\n",
      "46/46 [==============================] - 0s 6ms/step - loss: 1.0762 - accuracy: 0.6122 - val_loss: 0.5866 - val_accuracy: 0.8531\n",
      "Epoch 115/1000\n",
      "35/46 [=====================>........] - ETA: 0s - loss: 1.0366 - accuracy: 0.6268\n",
      "Epoch 115: saving model to model/keypoint_classifier\\keypoint_classifier.keras\n",
      "46/46 [==============================] - 0s 6ms/step - loss: 1.0276 - accuracy: 0.6317 - val_loss: 0.5799 - val_accuracy: 0.8541\n",
      "Epoch 116/1000\n",
      "37/46 [=======================>......] - ETA: 0s - loss: 1.0443 - accuracy: 0.6256\n",
      "Epoch 116: saving model to model/keypoint_classifier\\keypoint_classifier.keras\n",
      "46/46 [==============================] - 0s 7ms/step - loss: 1.0501 - accuracy: 0.6215 - val_loss: 0.5708 - val_accuracy: 0.8623\n",
      "Epoch 117/1000\n",
      "36/46 [======================>.......] - ETA: 0s - loss: 1.0339 - accuracy: 0.6311\n",
      "Epoch 117: saving model to model/keypoint_classifier\\keypoint_classifier.keras\n",
      "46/46 [==============================] - 0s 6ms/step - loss: 1.0324 - accuracy: 0.6363 - val_loss: 0.5734 - val_accuracy: 0.8562\n",
      "Epoch 118/1000\n",
      "35/46 [=====================>........] - ETA: 0s - loss: 1.0559 - accuracy: 0.6208\n",
      "Epoch 118: saving model to model/keypoint_classifier\\keypoint_classifier.keras\n",
      "46/46 [==============================] - 0s 6ms/step - loss: 1.0570 - accuracy: 0.6209 - val_loss: 0.5748 - val_accuracy: 0.8582\n",
      "Epoch 119/1000\n",
      "38/46 [=======================>......] - ETA: 0s - loss: 1.0497 - accuracy: 0.6271\n",
      "Epoch 119: saving model to model/keypoint_classifier\\keypoint_classifier.keras\n",
      "46/46 [==============================] - 0s 6ms/step - loss: 1.0514 - accuracy: 0.6250 - val_loss: 0.5768 - val_accuracy: 0.8598\n",
      "Epoch 120/1000\n",
      "35/46 [=====================>........] - ETA: 0s - loss: 1.0446 - accuracy: 0.6283\n",
      "Epoch 120: saving model to model/keypoint_classifier\\keypoint_classifier.keras\n",
      "46/46 [==============================] - 0s 7ms/step - loss: 1.0334 - accuracy: 0.6319 - val_loss: 0.5778 - val_accuracy: 0.8536\n",
      "Epoch 121/1000\n",
      "37/46 [=======================>......] - ETA: 0s - loss: 1.0487 - accuracy: 0.6246\n",
      "Epoch 121: saving model to model/keypoint_classifier\\keypoint_classifier.keras\n",
      "46/46 [==============================] - 0s 6ms/step - loss: 1.0542 - accuracy: 0.6237 - val_loss: 0.5691 - val_accuracy: 0.8593\n",
      "Epoch 122/1000\n",
      "35/46 [=====================>........] - ETA: 0s - loss: 1.0757 - accuracy: 0.6234\n",
      "Epoch 122: saving model to model/keypoint_classifier\\keypoint_classifier.keras\n",
      "46/46 [==============================] - 0s 6ms/step - loss: 1.0683 - accuracy: 0.6230 - val_loss: 0.5704 - val_accuracy: 0.8623\n",
      "Epoch 123/1000\n",
      "38/46 [=======================>......] - ETA: 0s - loss: 1.0339 - accuracy: 0.6312\n",
      "Epoch 123: saving model to model/keypoint_classifier\\keypoint_classifier.keras\n",
      "46/46 [==============================] - 0s 6ms/step - loss: 1.0386 - accuracy: 0.6281 - val_loss: 0.5713 - val_accuracy: 0.8603\n",
      "Epoch 124/1000\n",
      "39/46 [========================>.....] - ETA: 0s - loss: 1.0420 - accuracy: 0.6276\n",
      "Epoch 124: saving model to model/keypoint_classifier\\keypoint_classifier.keras\n",
      "46/46 [==============================] - 0s 6ms/step - loss: 1.0363 - accuracy: 0.6320 - val_loss: 0.5752 - val_accuracy: 0.8588\n",
      "Epoch 125/1000\n",
      "32/46 [===================>..........] - ETA: 0s - loss: 1.0049 - accuracy: 0.6396\n",
      "Epoch 125: saving model to model/keypoint_classifier\\keypoint_classifier.keras\n",
      "46/46 [==============================] - 0s 6ms/step - loss: 1.0211 - accuracy: 0.6361 - val_loss: 0.5660 - val_accuracy: 0.8623\n",
      "Epoch 126/1000\n",
      "39/46 [========================>.....] - ETA: 0s - loss: 1.0290 - accuracy: 0.6286\n",
      "Epoch 126: saving model to model/keypoint_classifier\\keypoint_classifier.keras\n",
      "46/46 [==============================] - 0s 6ms/step - loss: 1.0303 - accuracy: 0.6256 - val_loss: 0.5643 - val_accuracy: 0.8623\n",
      "Epoch 127/1000\n",
      "36/46 [======================>.......] - ETA: 0s - loss: 1.0412 - accuracy: 0.6326\n",
      "Epoch 127: saving model to model/keypoint_classifier\\keypoint_classifier.keras\n",
      "46/46 [==============================] - 0s 7ms/step - loss: 1.0509 - accuracy: 0.6283 - val_loss: 0.5644 - val_accuracy: 0.8664\n",
      "Epoch 128/1000\n",
      "38/46 [=======================>......] - ETA: 0s - loss: 1.0227 - accuracy: 0.6301\n",
      "Epoch 128: saving model to model/keypoint_classifier\\keypoint_classifier.keras\n",
      "46/46 [==============================] - 0s 5ms/step - loss: 1.0301 - accuracy: 0.6267 - val_loss: 0.5698 - val_accuracy: 0.8577\n",
      "Epoch 129/1000\n",
      "36/46 [======================>.......] - ETA: 0s - loss: 1.0361 - accuracy: 0.6337\n",
      "Epoch 129: saving model to model/keypoint_classifier\\keypoint_classifier.keras\n",
      "46/46 [==============================] - 0s 6ms/step - loss: 1.0366 - accuracy: 0.6319 - val_loss: 0.5667 - val_accuracy: 0.8634\n",
      "Epoch 130/1000\n",
      "32/46 [===================>..........] - ETA: 0s - loss: 1.0432 - accuracy: 0.6260\n",
      "Epoch 130: saving model to model/keypoint_classifier\\keypoint_classifier.keras\n",
      "46/46 [==============================] - 0s 6ms/step - loss: 1.0398 - accuracy: 0.6266 - val_loss: 0.5603 - val_accuracy: 0.8628\n",
      "Epoch 131/1000\n",
      "37/46 [=======================>......] - ETA: 0s - loss: 1.0409 - accuracy: 0.6197\n",
      "Epoch 131: saving model to model/keypoint_classifier\\keypoint_classifier.keras\n",
      "46/46 [==============================] - 0s 6ms/step - loss: 1.0420 - accuracy: 0.6179 - val_loss: 0.5666 - val_accuracy: 0.8639\n",
      "Epoch 132/1000\n",
      "37/46 [=======================>......] - ETA: 0s - loss: 1.0333 - accuracy: 0.6286\n",
      "Epoch 132: saving model to model/keypoint_classifier\\keypoint_classifier.keras\n",
      "46/46 [==============================] - 0s 6ms/step - loss: 1.0253 - accuracy: 0.6296 - val_loss: 0.5677 - val_accuracy: 0.8623\n",
      "Epoch 133/1000\n",
      "36/46 [======================>.......] - ETA: 0s - loss: 1.0464 - accuracy: 0.6341\n",
      "Epoch 133: saving model to model/keypoint_classifier\\keypoint_classifier.keras\n",
      "46/46 [==============================] - 0s 6ms/step - loss: 1.0524 - accuracy: 0.6312 - val_loss: 0.5754 - val_accuracy: 0.8618\n",
      "Epoch 134/1000\n",
      "37/46 [=======================>......] - ETA: 0s - loss: 1.0220 - accuracy: 0.6339\n",
      "Epoch 134: saving model to model/keypoint_classifier\\keypoint_classifier.keras\n",
      "46/46 [==============================] - 0s 6ms/step - loss: 1.0270 - accuracy: 0.6329 - val_loss: 0.5634 - val_accuracy: 0.8639\n",
      "Epoch 135/1000\n",
      "33/46 [====================>.........] - ETA: 0s - loss: 1.0073 - accuracy: 0.6364\n",
      "Epoch 135: saving model to model/keypoint_classifier\\keypoint_classifier.keras\n",
      "46/46 [==============================] - 0s 6ms/step - loss: 1.0238 - accuracy: 0.6339 - val_loss: 0.5516 - val_accuracy: 0.8726\n",
      "Epoch 136/1000\n",
      "39/46 [========================>.....] - ETA: 0s - loss: 1.0162 - accuracy: 0.6360\n",
      "Epoch 136: saving model to model/keypoint_classifier\\keypoint_classifier.keras\n",
      "46/46 [==============================] - 0s 6ms/step - loss: 1.0158 - accuracy: 0.6351 - val_loss: 0.5525 - val_accuracy: 0.8659\n",
      "Epoch 137/1000\n",
      "33/46 [====================>.........] - ETA: 0s - loss: 1.0431 - accuracy: 0.6233\n",
      "Epoch 137: saving model to model/keypoint_classifier\\keypoint_classifier.keras\n",
      "46/46 [==============================] - 0s 6ms/step - loss: 1.0495 - accuracy: 0.6244 - val_loss: 0.5698 - val_accuracy: 0.8695\n",
      "Epoch 138/1000\n",
      "37/46 [=======================>......] - ETA: 0s - loss: 1.0387 - accuracy: 0.6299\n",
      "Epoch 138: saving model to model/keypoint_classifier\\keypoint_classifier.keras\n",
      "46/46 [==============================] - 0s 6ms/step - loss: 1.0445 - accuracy: 0.6286 - val_loss: 0.5658 - val_accuracy: 0.8628\n",
      "Epoch 139/1000\n",
      "35/46 [=====================>........] - ETA: 0s - loss: 1.0522 - accuracy: 0.6328\n",
      "Epoch 139: saving model to model/keypoint_classifier\\keypoint_classifier.keras\n",
      "46/46 [==============================] - 0s 5ms/step - loss: 1.0483 - accuracy: 0.6314 - val_loss: 0.5745 - val_accuracy: 0.8588\n",
      "Epoch 140/1000\n",
      "36/46 [======================>.......] - ETA: 0s - loss: 1.0360 - accuracy: 0.6363\n",
      "Epoch 140: saving model to model/keypoint_classifier\\keypoint_classifier.keras\n",
      "46/46 [==============================] - 0s 6ms/step - loss: 1.0308 - accuracy: 0.6351 - val_loss: 0.5627 - val_accuracy: 0.8613\n",
      "Epoch 141/1000\n",
      "32/46 [===================>..........] - ETA: 0s - loss: 1.0167 - accuracy: 0.6404\n",
      "Epoch 141: saving model to model/keypoint_classifier\\keypoint_classifier.keras\n",
      "46/46 [==============================] - 0s 6ms/step - loss: 1.0191 - accuracy: 0.6392 - val_loss: 0.5772 - val_accuracy: 0.8608\n",
      "Epoch 142/1000\n",
      "45/46 [============================>.] - ETA: 0s - loss: 1.0409 - accuracy: 0.6316\n",
      "Epoch 142: saving model to model/keypoint_classifier\\keypoint_classifier.keras\n",
      "46/46 [==============================] - 0s 7ms/step - loss: 1.0422 - accuracy: 0.6317 - val_loss: 0.5606 - val_accuracy: 0.8685\n",
      "Epoch 143/1000\n",
      "33/46 [====================>.........] - ETA: 0s - loss: 1.0325 - accuracy: 0.6366\n",
      "Epoch 143: saving model to model/keypoint_classifier\\keypoint_classifier.keras\n",
      "46/46 [==============================] - 0s 6ms/step - loss: 1.0253 - accuracy: 0.6383 - val_loss: 0.5629 - val_accuracy: 0.8731\n",
      "Epoch 144/1000\n",
      "36/46 [======================>.......] - ETA: 0s - loss: 1.0272 - accuracy: 0.6293\n",
      "Epoch 144: saving model to model/keypoint_classifier\\keypoint_classifier.keras\n",
      "46/46 [==============================] - 0s 6ms/step - loss: 1.0376 - accuracy: 0.6273 - val_loss: 0.5666 - val_accuracy: 0.8649\n",
      "Epoch 145/1000\n",
      "37/46 [=======================>......] - ETA: 0s - loss: 1.0425 - accuracy: 0.6235\n",
      "Epoch 145: saving model to model/keypoint_classifier\\keypoint_classifier.keras\n",
      "46/46 [==============================] - 0s 6ms/step - loss: 1.0447 - accuracy: 0.6269 - val_loss: 0.5583 - val_accuracy: 0.8741\n",
      "Epoch 146/1000\n",
      "36/46 [======================>.......] - ETA: 0s - loss: 1.0320 - accuracy: 0.6343\n",
      "Epoch 146: saving model to model/keypoint_classifier\\keypoint_classifier.keras\n",
      "46/46 [==============================] - 0s 6ms/step - loss: 1.0301 - accuracy: 0.6305 - val_loss: 0.5644 - val_accuracy: 0.8649\n",
      "Epoch 147/1000\n",
      "32/46 [===================>..........] - ETA: 0s - loss: 1.0248 - accuracy: 0.6296\n",
      "Epoch 147: saving model to model/keypoint_classifier\\keypoint_classifier.keras\n",
      "46/46 [==============================] - 0s 6ms/step - loss: 1.0323 - accuracy: 0.6314 - val_loss: 0.5760 - val_accuracy: 0.8608\n",
      "Epoch 148/1000\n",
      "35/46 [=====================>........] - ETA: 0s - loss: 1.0139 - accuracy: 0.6442\n",
      "Epoch 148: saving model to model/keypoint_classifier\\keypoint_classifier.keras\n",
      "46/46 [==============================] - 0s 6ms/step - loss: 1.0065 - accuracy: 0.6470 - val_loss: 0.5556 - val_accuracy: 0.8659\n",
      "Epoch 149/1000\n",
      "30/46 [==================>...........] - ETA: 0s - loss: 1.0087 - accuracy: 0.6305\n",
      "Epoch 149: saving model to model/keypoint_classifier\\keypoint_classifier.keras\n",
      "46/46 [==============================] - 0s 6ms/step - loss: 1.0081 - accuracy: 0.6344 - val_loss: 0.5406 - val_accuracy: 0.8792\n",
      "Epoch 150/1000\n",
      "35/46 [=====================>........] - ETA: 0s - loss: 1.0203 - accuracy: 0.6275\n",
      "Epoch 150: saving model to model/keypoint_classifier\\keypoint_classifier.keras\n",
      "46/46 [==============================] - 0s 6ms/step - loss: 1.0170 - accuracy: 0.6308 - val_loss: 0.5564 - val_accuracy: 0.8680\n",
      "Epoch 151/1000\n",
      "32/46 [===================>..........] - ETA: 0s - loss: 1.0420 - accuracy: 0.6316\n",
      "Epoch 151: saving model to model/keypoint_classifier\\keypoint_classifier.keras\n",
      "46/46 [==============================] - 0s 6ms/step - loss: 1.0395 - accuracy: 0.6286 - val_loss: 0.5513 - val_accuracy: 0.8659\n",
      "Epoch 152/1000\n",
      "34/46 [=====================>........] - ETA: 0s - loss: 0.9995 - accuracy: 0.6445\n",
      "Epoch 152: saving model to model/keypoint_classifier\\keypoint_classifier.keras\n",
      "46/46 [==============================] - 0s 6ms/step - loss: 1.0081 - accuracy: 0.6448 - val_loss: 0.5495 - val_accuracy: 0.8675\n",
      "Epoch 153/1000\n",
      "33/46 [====================>.........] - ETA: 0s - loss: 1.0314 - accuracy: 0.6347\n",
      "Epoch 153: saving model to model/keypoint_classifier\\keypoint_classifier.keras\n",
      "46/46 [==============================] - 0s 7ms/step - loss: 1.0308 - accuracy: 0.6368 - val_loss: 0.5562 - val_accuracy: 0.8700\n",
      "Epoch 154/1000\n",
      "34/46 [=====================>........] - ETA: 0s - loss: 1.0183 - accuracy: 0.6255\n",
      "Epoch 154: saving model to model/keypoint_classifier\\keypoint_classifier.keras\n",
      "46/46 [==============================] - 0s 6ms/step - loss: 1.0192 - accuracy: 0.6295 - val_loss: 0.5506 - val_accuracy: 0.8644\n",
      "Epoch 155/1000\n",
      "32/46 [===================>..........] - ETA: 0s - loss: 0.9911 - accuracy: 0.6445\n",
      "Epoch 155: saving model to model/keypoint_classifier\\keypoint_classifier.keras\n",
      "46/46 [==============================] - 0s 6ms/step - loss: 1.0003 - accuracy: 0.6462 - val_loss: 0.5581 - val_accuracy: 0.8618\n",
      "Epoch 156/1000\n",
      "36/46 [======================>.......] - ETA: 0s - loss: 1.0060 - accuracy: 0.6380\n",
      "Epoch 156: saving model to model/keypoint_classifier\\keypoint_classifier.keras\n",
      "46/46 [==============================] - 0s 6ms/step - loss: 1.0080 - accuracy: 0.6389 - val_loss: 0.5572 - val_accuracy: 0.8700\n",
      "Epoch 157/1000\n",
      "37/46 [=======================>......] - ETA: 0s - loss: 1.0162 - accuracy: 0.6318\n",
      "Epoch 157: saving model to model/keypoint_classifier\\keypoint_classifier.keras\n",
      "46/46 [==============================] - 0s 6ms/step - loss: 1.0223 - accuracy: 0.6312 - val_loss: 0.5568 - val_accuracy: 0.8710\n",
      "Epoch 158/1000\n",
      "34/46 [=====================>........] - ETA: 0s - loss: 1.0001 - accuracy: 0.6409\n",
      "Epoch 158: saving model to model/keypoint_classifier\\keypoint_classifier.keras\n",
      "46/46 [==============================] - 0s 6ms/step - loss: 0.9947 - accuracy: 0.6448 - val_loss: 0.5580 - val_accuracy: 0.8634\n",
      "Epoch 159/1000\n",
      "38/46 [=======================>......] - ETA: 0s - loss: 0.9900 - accuracy: 0.6470\n",
      "Epoch 159: saving model to model/keypoint_classifier\\keypoint_classifier.keras\n",
      "46/46 [==============================] - 0s 6ms/step - loss: 0.9912 - accuracy: 0.6484 - val_loss: 0.5462 - val_accuracy: 0.8741\n",
      "Epoch 160/1000\n",
      "38/46 [=======================>......] - ETA: 0s - loss: 1.0201 - accuracy: 0.6295\n",
      "Epoch 160: saving model to model/keypoint_classifier\\keypoint_classifier.keras\n",
      "46/46 [==============================] - 0s 6ms/step - loss: 1.0214 - accuracy: 0.6274 - val_loss: 0.5401 - val_accuracy: 0.8756\n",
      "Epoch 161/1000\n",
      "36/46 [======================>.......] - ETA: 0s - loss: 1.0147 - accuracy: 0.6406\n",
      "Epoch 161: saving model to model/keypoint_classifier\\keypoint_classifier.keras\n",
      "46/46 [==============================] - 0s 6ms/step - loss: 1.0147 - accuracy: 0.6390 - val_loss: 0.5711 - val_accuracy: 0.8526\n",
      "Epoch 162/1000\n",
      "38/46 [=======================>......] - ETA: 0s - loss: 1.0302 - accuracy: 0.6334\n",
      "Epoch 162: saving model to model/keypoint_classifier\\keypoint_classifier.keras\n",
      "46/46 [==============================] - 0s 6ms/step - loss: 1.0177 - accuracy: 0.6404 - val_loss: 0.5515 - val_accuracy: 0.8695\n",
      "Epoch 163/1000\n",
      "36/46 [======================>.......] - ETA: 0s - loss: 1.0113 - accuracy: 0.6400\n",
      "Epoch 163: saving model to model/keypoint_classifier\\keypoint_classifier.keras\n",
      "46/46 [==============================] - 0s 7ms/step - loss: 1.0128 - accuracy: 0.6387 - val_loss: 0.5558 - val_accuracy: 0.8705\n",
      "Epoch 164/1000\n",
      "36/46 [======================>.......] - ETA: 0s - loss: 0.9951 - accuracy: 0.6419\n",
      "Epoch 164: saving model to model/keypoint_classifier\\keypoint_classifier.keras\n",
      "46/46 [==============================] - 0s 8ms/step - loss: 1.0022 - accuracy: 0.6428 - val_loss: 0.5470 - val_accuracy: 0.8654\n",
      "Epoch 165/1000\n",
      "45/46 [============================>.] - ETA: 0s - loss: 1.0313 - accuracy: 0.6345\n",
      "Epoch 165: saving model to model/keypoint_classifier\\keypoint_classifier.keras\n",
      "46/46 [==============================] - 0s 7ms/step - loss: 1.0299 - accuracy: 0.6356 - val_loss: 0.5497 - val_accuracy: 0.8746\n",
      "Epoch 166/1000\n",
      "34/46 [=====================>........] - ETA: 0s - loss: 1.0150 - accuracy: 0.6321\n",
      "Epoch 166: saving model to model/keypoint_classifier\\keypoint_classifier.keras\n",
      "46/46 [==============================] - 0s 5ms/step - loss: 1.0168 - accuracy: 0.6351 - val_loss: 0.5504 - val_accuracy: 0.8685\n",
      "Epoch 167/1000\n",
      "36/46 [======================>.......] - ETA: 0s - loss: 1.0264 - accuracy: 0.6276\n",
      "Epoch 167: saving model to model/keypoint_classifier\\keypoint_classifier.keras\n",
      "46/46 [==============================] - 0s 6ms/step - loss: 1.0178 - accuracy: 0.6324 - val_loss: 0.5551 - val_accuracy: 0.8705\n",
      "Epoch 168/1000\n",
      "38/46 [=======================>......] - ETA: 0s - loss: 1.0076 - accuracy: 0.6449\n",
      "Epoch 168: saving model to model/keypoint_classifier\\keypoint_classifier.keras\n",
      "46/46 [==============================] - 0s 6ms/step - loss: 0.9973 - accuracy: 0.6453 - val_loss: 0.5495 - val_accuracy: 0.8731\n",
      "Epoch 169/1000\n",
      "37/46 [=======================>......] - ETA: 0s - loss: 1.0433 - accuracy: 0.6296\n",
      "Epoch 169: saving model to model/keypoint_classifier\\keypoint_classifier.keras\n",
      "46/46 [==============================] - 0s 6ms/step - loss: 1.0274 - accuracy: 0.6373 - val_loss: 0.5628 - val_accuracy: 0.8690\n",
      "Epoch 170/1000\n",
      "39/46 [========================>.....] - ETA: 0s - loss: 0.9846 - accuracy: 0.6472\n",
      "Epoch 170: saving model to model/keypoint_classifier\\keypoint_classifier.keras\n",
      "46/46 [==============================] - 0s 6ms/step - loss: 0.9899 - accuracy: 0.6455 - val_loss: 0.5483 - val_accuracy: 0.8731\n",
      "Epoch 171/1000\n",
      "36/46 [======================>.......] - ETA: 0s - loss: 1.0074 - accuracy: 0.6428\n",
      "Epoch 171: saving model to model/keypoint_classifier\\keypoint_classifier.keras\n",
      "46/46 [==============================] - 0s 5ms/step - loss: 1.0155 - accuracy: 0.6380 - val_loss: 0.5582 - val_accuracy: 0.8664\n",
      "Epoch 172/1000\n",
      "36/46 [======================>.......] - ETA: 0s - loss: 1.0103 - accuracy: 0.6398\n",
      "Epoch 172: saving model to model/keypoint_classifier\\keypoint_classifier.keras\n",
      "46/46 [==============================] - 0s 5ms/step - loss: 1.0071 - accuracy: 0.6406 - val_loss: 0.5628 - val_accuracy: 0.8669\n",
      "Epoch 173/1000\n",
      "39/46 [========================>.....] - ETA: 0s - loss: 1.0552 - accuracy: 0.6230\n",
      "Epoch 173: saving model to model/keypoint_classifier\\keypoint_classifier.keras\n",
      "46/46 [==============================] - 0s 7ms/step - loss: 1.0472 - accuracy: 0.6269 - val_loss: 0.5556 - val_accuracy: 0.8843\n",
      "Epoch 174/1000\n",
      "36/46 [======================>.......] - ETA: 0s - loss: 1.0195 - accuracy: 0.6332\n",
      "Epoch 174: saving model to model/keypoint_classifier\\keypoint_classifier.keras\n",
      "46/46 [==============================] - 0s 5ms/step - loss: 1.0236 - accuracy: 0.6331 - val_loss: 0.5561 - val_accuracy: 0.8787\n",
      "Epoch 175/1000\n",
      "37/46 [=======================>......] - ETA: 0s - loss: 0.9931 - accuracy: 0.6438\n",
      "Epoch 175: saving model to model/keypoint_classifier\\keypoint_classifier.keras\n",
      "46/46 [==============================] - 0s 6ms/step - loss: 0.9999 - accuracy: 0.6421 - val_loss: 0.5488 - val_accuracy: 0.8767\n",
      "Epoch 176/1000\n",
      "37/46 [=======================>......] - ETA: 0s - loss: 0.9949 - accuracy: 0.6423\n",
      "Epoch 176: saving model to model/keypoint_classifier\\keypoint_classifier.keras\n",
      "46/46 [==============================] - 0s 6ms/step - loss: 0.9965 - accuracy: 0.6452 - val_loss: 0.5516 - val_accuracy: 0.8715\n",
      "Epoch 177/1000\n",
      "33/46 [====================>.........] - ETA: 0s - loss: 0.9991 - accuracy: 0.6496\n",
      "Epoch 177: saving model to model/keypoint_classifier\\keypoint_classifier.keras\n",
      "46/46 [==============================] - 0s 6ms/step - loss: 1.0115 - accuracy: 0.6470 - val_loss: 0.5363 - val_accuracy: 0.8787\n",
      "Epoch 178/1000\n",
      "38/46 [=======================>......] - ETA: 0s - loss: 1.0154 - accuracy: 0.6396\n",
      "Epoch 178: saving model to model/keypoint_classifier\\keypoint_classifier.keras\n",
      "46/46 [==============================] - 0s 6ms/step - loss: 1.0103 - accuracy: 0.6363 - val_loss: 0.5471 - val_accuracy: 0.8705\n",
      "Epoch 179/1000\n",
      "37/46 [=======================>......] - ETA: 0s - loss: 0.9891 - accuracy: 0.6413\n",
      "Epoch 179: saving model to model/keypoint_classifier\\keypoint_classifier.keras\n",
      "46/46 [==============================] - 0s 6ms/step - loss: 0.9867 - accuracy: 0.6416 - val_loss: 0.5354 - val_accuracy: 0.8823\n",
      "Epoch 180/1000\n",
      "33/46 [====================>.........] - ETA: 0s - loss: 0.9770 - accuracy: 0.6529\n",
      "Epoch 180: saving model to model/keypoint_classifier\\keypoint_classifier.keras\n",
      "46/46 [==============================] - 0s 6ms/step - loss: 0.9900 - accuracy: 0.6474 - val_loss: 0.5412 - val_accuracy: 0.8802\n",
      "Epoch 181/1000\n",
      "34/46 [=====================>........] - ETA: 0s - loss: 1.0084 - accuracy: 0.6395\n",
      "Epoch 181: saving model to model/keypoint_classifier\\keypoint_classifier.keras\n",
      "46/46 [==============================] - 0s 6ms/step - loss: 1.0127 - accuracy: 0.6343 - val_loss: 0.5579 - val_accuracy: 0.8690\n",
      "Epoch 182/1000\n",
      "36/46 [======================>.......] - ETA: 0s - loss: 0.9843 - accuracy: 0.6549\n",
      "Epoch 182: saving model to model/keypoint_classifier\\keypoint_classifier.keras\n",
      "46/46 [==============================] - 0s 6ms/step - loss: 0.9890 - accuracy: 0.6493 - val_loss: 0.5557 - val_accuracy: 0.8823\n",
      "Epoch 183/1000\n",
      "42/46 [==========================>...] - ETA: 0s - loss: 1.0092 - accuracy: 0.6438\n",
      "Epoch 183: saving model to model/keypoint_classifier\\keypoint_classifier.keras\n",
      "46/46 [==============================] - 0s 7ms/step - loss: 1.0068 - accuracy: 0.6433 - val_loss: 0.5584 - val_accuracy: 0.8721\n",
      "Epoch 184/1000\n",
      "35/46 [=====================>........] - ETA: 0s - loss: 1.0029 - accuracy: 0.6451\n",
      "Epoch 184: saving model to model/keypoint_classifier\\keypoint_classifier.keras\n",
      "46/46 [==============================] - 0s 6ms/step - loss: 1.0096 - accuracy: 0.6436 - val_loss: 0.5474 - val_accuracy: 0.8802\n",
      "Epoch 185/1000\n",
      "35/46 [=====================>........] - ETA: 0s - loss: 1.0085 - accuracy: 0.6326\n",
      "Epoch 185: saving model to model/keypoint_classifier\\keypoint_classifier.keras\n",
      "46/46 [==============================] - 0s 6ms/step - loss: 1.0139 - accuracy: 0.6320 - val_loss: 0.5635 - val_accuracy: 0.8639\n",
      "Epoch 186/1000\n",
      "35/46 [=====================>........] - ETA: 0s - loss: 0.9956 - accuracy: 0.6475\n",
      "Epoch 186: saving model to model/keypoint_classifier\\keypoint_classifier.keras\n",
      "46/46 [==============================] - 0s 6ms/step - loss: 0.9974 - accuracy: 0.6469 - val_loss: 0.5524 - val_accuracy: 0.8721\n",
      "Epoch 187/1000\n",
      "33/46 [====================>.........] - ETA: 0s - loss: 0.9935 - accuracy: 0.6425\n",
      "Epoch 187: saving model to model/keypoint_classifier\\keypoint_classifier.keras\n",
      "46/46 [==============================] - 0s 6ms/step - loss: 0.9899 - accuracy: 0.6436 - val_loss: 0.5453 - val_accuracy: 0.8849\n",
      "Epoch 188/1000\n",
      "33/46 [====================>.........] - ETA: 0s - loss: 0.9840 - accuracy: 0.6416\n",
      "Epoch 188: saving model to model/keypoint_classifier\\keypoint_classifier.keras\n",
      "46/46 [==============================] - 0s 6ms/step - loss: 0.9913 - accuracy: 0.6407 - val_loss: 0.5445 - val_accuracy: 0.8726\n",
      "Epoch 189/1000\n",
      "35/46 [=====================>........] - ETA: 0s - loss: 0.9933 - accuracy: 0.6462\n",
      "Epoch 189: saving model to model/keypoint_classifier\\keypoint_classifier.keras\n",
      "46/46 [==============================] - 0s 6ms/step - loss: 0.9871 - accuracy: 0.6491 - val_loss: 0.5449 - val_accuracy: 0.8797\n",
      "Epoch 190/1000\n",
      "35/46 [=====================>........] - ETA: 0s - loss: 0.9852 - accuracy: 0.6529\n",
      "Epoch 190: saving model to model/keypoint_classifier\\keypoint_classifier.keras\n",
      "46/46 [==============================] - 0s 6ms/step - loss: 0.9967 - accuracy: 0.6445 - val_loss: 0.5473 - val_accuracy: 0.8849\n",
      "Epoch 191/1000\n",
      "34/46 [=====================>........] - ETA: 0s - loss: 0.9985 - accuracy: 0.6406\n",
      "Epoch 191: saving model to model/keypoint_classifier\\keypoint_classifier.keras\n",
      "46/46 [==============================] - 0s 8ms/step - loss: 1.0005 - accuracy: 0.6433 - val_loss: 0.5522 - val_accuracy: 0.8700\n",
      "Epoch 192/1000\n",
      "34/46 [=====================>........] - ETA: 0s - loss: 0.9779 - accuracy: 0.6528\n",
      "Epoch 192: saving model to model/keypoint_classifier\\keypoint_classifier.keras\n",
      "46/46 [==============================] - 0s 8ms/step - loss: 0.9846 - accuracy: 0.6496 - val_loss: 0.5430 - val_accuracy: 0.8792\n",
      "Epoch 193/1000\n",
      "34/46 [=====================>........] - ETA: 0s - loss: 0.9856 - accuracy: 0.6420\n",
      "Epoch 193: saving model to model/keypoint_classifier\\keypoint_classifier.keras\n",
      "46/46 [==============================] - 0s 6ms/step - loss: 0.9708 - accuracy: 0.6447 - val_loss: 0.5395 - val_accuracy: 0.8818\n",
      "Epoch 194/1000\n",
      "36/46 [======================>.......] - ETA: 0s - loss: 0.9979 - accuracy: 0.6508\n",
      "Epoch 194: saving model to model/keypoint_classifier\\keypoint_classifier.keras\n",
      "46/46 [==============================] - 0s 6ms/step - loss: 0.9859 - accuracy: 0.6530 - val_loss: 0.5408 - val_accuracy: 0.8808\n",
      "Epoch 195/1000\n",
      "35/46 [=====================>........] - ETA: 0s - loss: 0.9573 - accuracy: 0.6636\n",
      "Epoch 195: saving model to model/keypoint_classifier\\keypoint_classifier.keras\n",
      "46/46 [==============================] - 0s 6ms/step - loss: 0.9624 - accuracy: 0.6636 - val_loss: 0.5238 - val_accuracy: 0.8869\n",
      "Epoch 196/1000\n",
      "33/46 [====================>.........] - ETA: 0s - loss: 0.9844 - accuracy: 0.6461\n",
      "Epoch 196: saving model to model/keypoint_classifier\\keypoint_classifier.keras\n",
      "46/46 [==============================] - 0s 6ms/step - loss: 0.9866 - accuracy: 0.6443 - val_loss: 0.5440 - val_accuracy: 0.8715\n",
      "Epoch 197/1000\n",
      "37/46 [=======================>......] - ETA: 0s - loss: 0.9683 - accuracy: 0.6560\n",
      "Epoch 197: saving model to model/keypoint_classifier\\keypoint_classifier.keras\n",
      "46/46 [==============================] - 0s 5ms/step - loss: 0.9818 - accuracy: 0.6508 - val_loss: 0.5262 - val_accuracy: 0.8879\n",
      "Epoch 198/1000\n",
      "38/46 [=======================>......] - ETA: 0s - loss: 0.9725 - accuracy: 0.6581\n",
      "Epoch 198: saving model to model/keypoint_classifier\\keypoint_classifier.keras\n",
      "46/46 [==============================] - 0s 6ms/step - loss: 0.9775 - accuracy: 0.6554 - val_loss: 0.5494 - val_accuracy: 0.8741\n",
      "Epoch 199/1000\n",
      "37/46 [=======================>......] - ETA: 0s - loss: 0.9666 - accuracy: 0.6529\n",
      "Epoch 199: saving model to model/keypoint_classifier\\keypoint_classifier.keras\n",
      "46/46 [==============================] - 0s 7ms/step - loss: 0.9780 - accuracy: 0.6506 - val_loss: 0.5436 - val_accuracy: 0.8818\n",
      "Epoch 200/1000\n",
      "30/46 [==================>...........] - ETA: 0s - loss: 0.9842 - accuracy: 0.6404\n",
      "Epoch 200: saving model to model/keypoint_classifier\\keypoint_classifier.keras\n",
      "46/46 [==============================] - 0s 6ms/step - loss: 0.9893 - accuracy: 0.6401 - val_loss: 0.5445 - val_accuracy: 0.8833\n",
      "Epoch 201/1000\n",
      "35/46 [=====================>........] - ETA: 0s - loss: 0.9917 - accuracy: 0.6371\n",
      "Epoch 201: saving model to model/keypoint_classifier\\keypoint_classifier.keras\n",
      "46/46 [==============================] - 0s 4ms/step - loss: 0.9909 - accuracy: 0.6392 - val_loss: 0.5427 - val_accuracy: 0.8843\n",
      "Epoch 202/1000\n",
      "27/46 [================>.............] - ETA: 0s - loss: 0.9937 - accuracy: 0.6334\n",
      "Epoch 202: saving model to model/keypoint_classifier\\keypoint_classifier.keras\n",
      "46/46 [==============================] - 0s 4ms/step - loss: 0.9790 - accuracy: 0.6474 - val_loss: 0.5377 - val_accuracy: 0.8813\n",
      "Epoch 203/1000\n",
      "21/46 [============>.................] - ETA: 0s - loss: 0.9841 - accuracy: 0.6507\n",
      "Epoch 203: saving model to model/keypoint_classifier\\keypoint_classifier.keras\n",
      "46/46 [==============================] - 0s 4ms/step - loss: 0.9729 - accuracy: 0.6547 - val_loss: 0.5338 - val_accuracy: 0.8889\n",
      "Epoch 204/1000\n",
      "39/46 [========================>.....] - ETA: 0s - loss: 0.9802 - accuracy: 0.6512\n",
      "Epoch 204: saving model to model/keypoint_classifier\\keypoint_classifier.keras\n",
      "46/46 [==============================] - 0s 4ms/step - loss: 0.9857 - accuracy: 0.6493 - val_loss: 0.5395 - val_accuracy: 0.8767\n",
      "Epoch 205/1000\n",
      "22/46 [=============>................] - ETA: 0s - loss: 0.9881 - accuracy: 0.6499\n",
      "Epoch 205: saving model to model/keypoint_classifier\\keypoint_classifier.keras\n",
      "46/46 [==============================] - 0s 4ms/step - loss: 0.9778 - accuracy: 0.6530 - val_loss: 0.5498 - val_accuracy: 0.8726\n",
      "Epoch 206/1000\n",
      "25/46 [===============>..............] - ETA: 0s - loss: 0.9600 - accuracy: 0.6541\n",
      "Epoch 206: saving model to model/keypoint_classifier\\keypoint_classifier.keras\n",
      "46/46 [==============================] - 0s 4ms/step - loss: 0.9621 - accuracy: 0.6537 - val_loss: 0.5342 - val_accuracy: 0.8792\n",
      "Epoch 207/1000\n",
      "28/46 [=================>............] - ETA: 0s - loss: 0.9882 - accuracy: 0.6588\n",
      "Epoch 207: saving model to model/keypoint_classifier\\keypoint_classifier.keras\n",
      "46/46 [==============================] - 0s 5ms/step - loss: 0.9762 - accuracy: 0.6569 - val_loss: 0.5370 - val_accuracy: 0.8843\n",
      "Epoch 208/1000\n",
      "39/46 [========================>.....] - ETA: 0s - loss: 0.9808 - accuracy: 0.6498\n",
      "Epoch 208: saving model to model/keypoint_classifier\\keypoint_classifier.keras\n",
      "46/46 [==============================] - 0s 4ms/step - loss: 0.9802 - accuracy: 0.6469 - val_loss: 0.5420 - val_accuracy: 0.8849\n",
      "Epoch 209/1000\n",
      "29/46 [=================>............] - ETA: 0s - loss: 0.9764 - accuracy: 0.6581\n",
      "Epoch 209: saving model to model/keypoint_classifier\\keypoint_classifier.keras\n",
      "46/46 [==============================] - 0s 3ms/step - loss: 0.9886 - accuracy: 0.6530 - val_loss: 0.5503 - val_accuracy: 0.8731\n",
      "Epoch 210/1000\n",
      "33/46 [====================>.........] - ETA: 0s - loss: 0.9923 - accuracy: 0.6420\n",
      "Epoch 210: saving model to model/keypoint_classifier\\keypoint_classifier.keras\n",
      "46/46 [==============================] - 0s 4ms/step - loss: 0.9898 - accuracy: 0.6423 - val_loss: 0.5350 - val_accuracy: 0.8838\n",
      "Epoch 211/1000\n",
      "26/46 [===============>..............] - ETA: 0s - loss: 0.9862 - accuracy: 0.6436\n",
      "Epoch 211: saving model to model/keypoint_classifier\\keypoint_classifier.keras\n",
      "46/46 [==============================] - 0s 4ms/step - loss: 0.9747 - accuracy: 0.6528 - val_loss: 0.5345 - val_accuracy: 0.8889\n",
      "Epoch 212/1000\n",
      "29/46 [=================>............] - ETA: 0s - loss: 0.9661 - accuracy: 0.6641\n",
      "Epoch 212: saving model to model/keypoint_classifier\\keypoint_classifier.keras\n",
      "46/46 [==============================] - 0s 4ms/step - loss: 0.9684 - accuracy: 0.6644 - val_loss: 0.5391 - val_accuracy: 0.8828\n",
      "Epoch 213/1000\n",
      "32/46 [===================>..........] - ETA: 0s - loss: 0.9543 - accuracy: 0.6511\n",
      "Epoch 213: saving model to model/keypoint_classifier\\keypoint_classifier.keras\n",
      "46/46 [==============================] - 0s 4ms/step - loss: 0.9799 - accuracy: 0.6455 - val_loss: 0.5430 - val_accuracy: 0.8859\n",
      "Epoch 214/1000\n",
      "32/46 [===================>..........] - ETA: 0s - loss: 0.9732 - accuracy: 0.6511\n",
      "Epoch 214: saving model to model/keypoint_classifier\\keypoint_classifier.keras\n",
      "46/46 [==============================] - 0s 4ms/step - loss: 0.9618 - accuracy: 0.6554 - val_loss: 0.5341 - val_accuracy: 0.8900\n",
      "Epoch 215/1000\n",
      "25/46 [===============>..............] - ETA: 0s - loss: 0.9723 - accuracy: 0.6522\n",
      "Epoch 215: saving model to model/keypoint_classifier\\keypoint_classifier.keras\n",
      "46/46 [==============================] - 0s 4ms/step - loss: 0.9839 - accuracy: 0.6528 - val_loss: 0.5391 - val_accuracy: 0.8864\n",
      "Epoch 215: early stopping\n"
     ]
    },
    {
     "data": {
      "text/plain": [
       "<keras.src.callbacks.History at 0x2b8ec44d0f0>"
      ]
     },
     "execution_count": 11,
     "metadata": {},
     "output_type": "execute_result"
    }
   ],
   "source": [
    "model.fit(\n",
    "    X_train,\n",
    "    y_train,\n",
    "    epochs=1000,\n",
    "    batch_size=128,\n",
    "    validation_data=(X_test, y_test),\n",
    "    callbacks=[cp_callback, es_callback]\n",
    ")"
   ]
  },
  {
   "cell_type": "code",
   "execution_count": 12,
   "metadata": {
    "colab": {
     "base_uri": "https://localhost:8080/"
    },
    "id": "pxvb2Y299hE3",
    "outputId": "59eb3185-2e37-4b9e-bc9d-ab1b8ac29b7f"
   },
   "outputs": [
    {
     "name": "stdout",
     "output_type": "stream",
     "text": [
      "16/16 [==============================] - 0s 1ms/step - loss: 0.5391 - accuracy: 0.8864\n"
     ]
    }
   ],
   "source": [
    "# Model evaluation\n",
    "val_loss, val_acc = model.evaluate(X_test, y_test, batch_size=128)"
   ]
  },
  {
   "cell_type": "code",
   "execution_count": 13,
   "metadata": {
    "id": "RBkmDeUW9hE4"
   },
   "outputs": [],
   "source": [
    "# Loading the saved model\n",
    "model = tf.keras.models.load_model(model_save_path)"
   ]
  },
  {
   "cell_type": "code",
   "execution_count": 14,
   "metadata": {
    "colab": {
     "base_uri": "https://localhost:8080/"
    },
    "id": "tFz9Tb0I9hE4",
    "outputId": "1c3b3528-54ae-4ee2-ab04-77429211cbef"
   },
   "outputs": [
    {
     "name": "stdout",
     "output_type": "stream",
     "text": [
      "1/1 [==============================] - 0s 100ms/step\n",
      "[1.6292509e-01 7.6194608e-01 1.9089203e-02 1.5849498e-04 1.5376611e-07\n",
      " 2.9765619e-05 8.8764663e-04 5.7170642e-08 4.2216010e-02 5.0565449e-04\n",
      " 1.2229138e-02 1.2694351e-05]\n",
      "1\n"
     ]
    }
   ],
   "source": [
    "# Inference test\n",
    "predict_result = model.predict(np.array([X_test[0]]))\n",
    "print(np.squeeze(predict_result))\n",
    "print(np.argmax(np.squeeze(predict_result)))"
   ]
  },
  {
   "cell_type": "markdown",
   "metadata": {
    "id": "S3U4yNWx9hE4"
   },
   "source": [
    "# Confusion matrix"
   ]
  },
  {
   "cell_type": "code",
   "execution_count": 15,
   "metadata": {
    "colab": {
     "base_uri": "https://localhost:8080/",
     "height": 582
    },
    "id": "AP1V6SCk9hE5",
    "outputId": "08e41a80-7a4a-4619-8125-ecc371368d19"
   },
   "outputs": [
    {
     "name": "stdout",
     "output_type": "stream",
     "text": [
      "62/62 [==============================] - 0s 2ms/step\n"
     ]
    },
    {
     "data": {
      "image/png": "[encoded data removed]",
      "text/plain": [
       "<Figure size 700x600 with 2 Axes>"
      ]
     },
     "metadata": {},
     "output_type": "display_data"
    },
    {
     "name": "stdout",
     "output_type": "stream",
     "text": [
      "Classification Report\n",
      "              precision    recall  f1-score   support\n",
      "\n",
      "           0       0.94      0.90      0.92       408\n",
      "           1       0.88      0.88      0.88       393\n",
      "           2       0.88      0.97      0.92       320\n",
      "           3       0.88      0.95      0.92        86\n",
      "           4       0.93      0.61      0.74        41\n",
      "           5       0.61      0.46      0.53        67\n",
      "           6       0.97      0.86      0.91        87\n",
      "           7       0.71      0.92      0.80       108\n",
      "           8       0.81      0.97      0.89       108\n",
      "           9       1.00      0.82      0.90       111\n",
      "          10       0.99      0.89      0.94       135\n",
      "          11       0.89      0.92      0.91        90\n",
      "\n",
      "    accuracy                           0.89      1954\n",
      "   macro avg       0.87      0.85      0.85      1954\n",
      "weighted avg       0.89      0.89      0.89      1954\n",
      "\n"
     ]
    }
   ],
   "source": [
    "import pandas as pd\n",
    "import seaborn as sns\n",
    "import matplotlib.pyplot as plt\n",
    "from sklearn.metrics import confusion_matrix, classification_report\n",
    "\n",
    "def print_confusion_matrix(y_true, y_pred, report=True):\n",
    "    labels = sorted(list(set(y_true)))\n",
    "    cmx_data = confusion_matrix(y_true, y_pred, labels=labels)\n",
    "    \n",
    "    df_cmx = pd.DataFrame(cmx_data, index=labels, columns=labels)\n",
    " \n",
    "    fig, ax = plt.subplots(figsize=(7, 6))\n",
    "    sns.heatmap(df_cmx, annot=True, fmt='g' ,square=False)\n",
    "    ax.set_ylim(len(set(y_true)), 0)\n",
    "    plt.show()\n",
    "    \n",
    "    if report:\n",
    "        print('Classification Report')\n",
    "        print(classification_report(y_test, y_pred))\n",
    "\n",
    "Y_pred = model.predict(X_test)\n",
    "y_pred = np.argmax(Y_pred, axis=1)\n",
    "\n",
    "print_confusion_matrix(y_test, y_pred)"
   ]
  },
  {
   "cell_type": "markdown",
   "metadata": {
    "id": "FNP6aqzc9hE5"
   },
   "source": [
    "# Convert to model for Tensorflow-Lite"
   ]
  },
  {
   "cell_type": "code",
   "execution_count": 16,
   "metadata": {
    "id": "ODjnYyld9hE6"
   },
   "outputs": [],
   "source": [
    "# Save as a model dedicated to inference\n",
    "model.save(model_save_path)"
   ]
  },
  {
   "cell_type": "code",
   "execution_count": 17,
   "metadata": {
    "colab": {
     "base_uri": "https://localhost:8080/"
    },
    "id": "zRfuK8Y59hE6",
    "outputId": "a4ca585c-b5d5-4244-8291-8674063209bb"
   },
   "outputs": [
    {
     "name": "stdout",
     "output_type": "stream",
     "text": [
      "INFO:tensorflow:Assets written to: C:\\Users\\rvheb\\AppData\\Local\\Temp\\tmpt_so4kq4\\assets\n"
     ]
    },
    {
     "name": "stderr",
     "output_type": "stream",
     "text": [
      "INFO:tensorflow:Assets written to: C:\\Users\\rvheb\\AppData\\Local\\Temp\\tmpt_so4kq4\\assets\n"
     ]
    },
    {
     "data": {
      "text/plain": [
       "6892"
      ]
     },
     "execution_count": 17,
     "metadata": {},
     "output_type": "execute_result"
    }
   ],
   "source": [
    "# Transform model (quantization)\n",
    "\n",
    "converter = tf.lite.TFLiteConverter.from_keras_model(model)\n",
    "# converter.optimizations = [tf.lite.Optimize.DEFAULT]\n",
    "tflite_quantized_model = converter.convert()\n",
    "\n",
    "open(tflite_save_path, 'wb').write(tflite_quantized_model)"
   ]
  },
  {
   "cell_type": "markdown",
   "metadata": {
    "id": "CHBPBXdx9hE6"
   },
   "source": [
    "# Inference test"
   ]
  },
  {
   "cell_type": "code",
   "execution_count": 18,
   "metadata": {
    "id": "mGAzLocO9hE7"
   },
   "outputs": [],
   "source": [
    "interpreter = tf.lite.Interpreter(model_path=tflite_save_path)\n",
    "interpreter.allocate_tensors()"
   ]
  },
  {
   "cell_type": "code",
   "execution_count": 19,
   "metadata": {
    "id": "oQuDK8YS9hE7"
   },
   "outputs": [],
   "source": [
    "# Get I / O tensor\n",
    "input_details = interpreter.get_input_details()\n",
    "output_details = interpreter.get_output_details()"
   ]
  },
  {
   "cell_type": "code",
   "execution_count": 20,
   "metadata": {
    "id": "2_ixAf_l9hE7"
   },
   "outputs": [],
   "source": [
    "interpreter.set_tensor(input_details[0]['index'], np.array([X_test[0]]))"
   ]
  },
  {
   "cell_type": "code",
   "execution_count": 21,
   "metadata": {
    "colab": {
     "base_uri": "https://localhost:8080/"
    },
    "id": "s4FoAnuc9hE7",
    "outputId": "91f18257-8d8b-4ef3-c558-e9b5f94fabbf",
    "scrolled": true
   },
   "outputs": [
    {
     "name": "stdout",
     "output_type": "stream",
     "text": [
      "CPU times: total: 0 ns\n",
      "Wall time: 0 ns\n"
     ]
    }
   ],
   "source": [
    "%%time\n",
    "# Inference implementation\n",
    "interpreter.invoke()\n",
    "tflite_results = interpreter.get_tensor(output_details[0]['index'])"
   ]
  },
  {
   "cell_type": "code",
   "execution_count": 22,
   "metadata": {
    "colab": {
     "base_uri": "https://localhost:8080/"
    },
    "id": "vONjp19J9hE8",
    "outputId": "77205e24-fd00-42c4-f7b6-e06e527c2cba"
   },
   "outputs": [
    {
     "name": "stdout",
     "output_type": "stream",
     "text": [
      "[1.6292506e-01 7.6194608e-01 1.9089213e-02 1.5849498e-04 1.5376565e-07\n",
      " 2.9765561e-05 8.8764745e-04 5.7170528e-08 4.2216003e-02 5.0565496e-04\n",
      " 1.2229144e-02 1.2694364e-05]\n",
      "1\n"
     ]
    }
   ],
   "source": [
    "print(np.squeeze(tflite_results))\n",
    "print(np.argmax(np.squeeze(tflite_results)))"
   ]
  },
  {
   "cell_type": "code",
   "execution_count": 2,
   "metadata": {},
   "outputs": [
    {
     "name": "stdout",
     "output_type": "stream",
     "text": [
      "WARNING:tensorflow:From d:\\Programming\\Templates\\HandGestures\\.venv\\lib\\site-packages\\keras\\src\\losses.py:2976: The name tf.losses.sparse_softmax_cross_entropy is deprecated. Please use tf.compat.v1.losses.sparse_softmax_cross_entropy instead.\n",
      "\n",
      "2.15.0\n"
     ]
    }
   ],
   "source": [
    "import tensorflow as tf\n",
    "print(tf.__version__)"
   ]
  }
 ],
 "metadata": {
  "accelerator": "GPU",
  "colab": {
   "collapsed_sections": [],
   "name": "keypoint_classification_EN.ipynb",
   "provenance": [],
   "toc_visible": true
  },
  "kernelspec": {
   "display_name": "Python 3 (ipykernel)",
   "language": "python",
   "name": "python3"
  },
  "language_info": {
   "codemirror_mode": {
    "name": "ipython",
    "version": 3
   },
   "file_extension": ".py",
   "mimetype": "text/x-python",
   "name": "python",
   "nbconvert_exporter": "python",
   "pygments_lexer": "ipython3",
   "version": "3.10.8"
  }
 },
 "nbformat": 4,
 "nbformat_minor": 4
}
